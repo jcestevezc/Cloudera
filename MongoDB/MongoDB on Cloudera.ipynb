{
 "cells": [
  {
   "cell_type": "markdown",
   "metadata": {},
   "source": [
    "# Connect to database"
   ]
  },
  {
   "cell_type": "code",
   "execution_count": 1,
   "metadata": {
    "collapsed": false
   },
   "outputs": [],
   "source": [
    "#! pip install pymongo\n",
    "import pymongo\n",
    "from pymongo import MongoClient"
   ]
  },
  {
   "cell_type": "code",
   "execution_count": 2,
   "metadata": {
    "collapsed": false
   },
   "outputs": [],
   "source": [
    "client = MongoClient('mongodb://127.0.0.1:27017')"
   ]
  },
  {
   "cell_type": "markdown",
   "metadata": {},
   "source": [
    "# Exploring the database"
   ]
  },
  {
   "cell_type": "code",
   "execution_count": 3,
   "metadata": {
    "collapsed": false
   },
   "outputs": [
    {
     "data": {
      "text/plain": [
       "['journaldev', 'local', 'sample', 'test']"
      ]
     },
     "execution_count": 3,
     "metadata": {},
     "output_type": "execute_result"
    }
   ],
   "source": [
    "client.list_database_names()"
   ]
  },
  {
   "cell_type": "code",
   "execution_count": 4,
   "metadata": {
    "collapsed": true
   },
   "outputs": [],
   "source": [
    "db = client['sample']"
   ]
  },
  {
   "cell_type": "code",
   "execution_count": 5,
   "metadata": {
    "collapsed": false
   },
   "outputs": [
    {
     "data": {
      "text/plain": [
       "['users', 'collection']"
      ]
     },
     "execution_count": 5,
     "metadata": {},
     "output_type": "execute_result"
    }
   ],
   "source": [
    "db.list_collection_names()"
   ]
  },
  {
   "cell_type": "code",
   "execution_count": 6,
   "metadata": {
    "collapsed": false
   },
   "outputs": [
    {
     "name": "stderr",
     "output_type": "stream",
     "text": [
      "/home/cloudera/anaconda3/lib/python3.5/site-packages/ipykernel/__main__.py:1: DeprecationWarning: count is deprecated. Use estimated_document_count or count_documents instead. Please note that $where must be replaced by $expr, $near must be replaced by $geoWithin with $center, and $nearSphere must be replaced by $geoWithin with $centerSphere\n",
      "  if __name__ == '__main__':\n"
     ]
    },
    {
     "data": {
      "text/plain": [
       "11188"
      ]
     },
     "execution_count": 6,
     "metadata": {},
     "output_type": "execute_result"
    }
   ],
   "source": [
    "db.users.count()"
   ]
  },
  {
   "cell_type": "code",
   "execution_count": 7,
   "metadata": {
    "collapsed": false
   },
   "outputs": [],
   "source": [
    "collection = db[\"users\"]"
   ]
  },
  {
   "cell_type": "code",
   "execution_count": 8,
   "metadata": {
    "collapsed": false
   },
   "outputs": [
    {
     "data": {
      "text/plain": [
       "{'_id': ObjectId('578ffa8e7eb9513f4f55a935'),\n",
       " 'coordinates': None,\n",
       " 'retweet_count': 0,\n",
       " 'source': '<a href=\"http://twitter.com/download/iphone\" rel=\"nofollow\">Twitter for iPhone</a>',\n",
       " 'tweet_ID': '755891629932675072',\n",
       " 'tweet_followers_count': 461,\n",
       " 'tweet_mentioned_count': 1,\n",
       " 'tweet_text': 'RT @ochocinco: I beat them all for 10 straight hours #FIFA16KING  https://t.co/BFnV6jfkBL',\n",
       " 'user': {'CreatedAt': datetime.datetime(2011, 12, 27, 9, 4, 1),\n",
       "  'FavouritesCount': 5223,\n",
       "  'FollowersCount': 461,\n",
       "  'FriendsCount': 619,\n",
       "  'Location': '501',\n",
       "  'UserId': 447818090},\n",
       " 'user_name': 'koteras'}"
      ]
     },
     "execution_count": 8,
     "metadata": {},
     "output_type": "execute_result"
    }
   ],
   "source": [
    "collection.find_one()"
   ]
  },
  {
   "cell_type": "markdown",
   "metadata": {},
   "source": [
    "# Select - Where"
   ]
  },
  {
   "cell_type": "code",
   "execution_count": 9,
   "metadata": {
    "collapsed": false
   },
   "outputs": [
    {
     "name": "stdout",
     "output_type": "stream",
     "text": [
      "{'_id': ObjectId('578ffad77eb9513f4f55a95f'), 'coordinates': None, 'tweet_mentioned_count': 2, 'user': {'CreatedAt': datetime.datetime(2014, 10, 7, 19, 45, 27), 'FavouritesCount': 4631, 'FollowersCount': 306, 'FriendsCount': 624, 'Location': 'Aberdeen, Scotland', 'UserId': -1450491958}, 'source': '<a href=\"http://www.google.com/\" rel=\"nofollow\">Google</a>', 'user_name': 'ScottTorpey', 'tweet_ID': '755891935462785025', 'tweet_followers_count': 306, 'tweet_text': 'I liked a @YouTube video from @jmxfifa https://t.co/0KxHB8nUEe WTF!!! FIFA 17 TOP 10 DOWNGRADES ON ULTIMATE TEAM!?!', 'retweet_count': 0}\n",
      "{'_id': ObjectId('578ffad77eb9513f4f55a961'), 'coordinates': None, 'tweet_mentioned_count': 2, 'user': {'CreatedAt': datetime.datetime(2014, 10, 7, 19, 45, 27), 'FavouritesCount': 4631, 'FollowersCount': 306, 'FriendsCount': 624, 'Location': 'Aberdeen, Scotland', 'UserId': -1450491958}, 'source': '<a href=\"http://linkis.com\" rel=\"nofollow\">Linkis.com</a>', 'user_name': 'ScottTorpey', 'tweet_ID': '755891937677287424', 'tweet_followers_count': 306, 'tweet_text': 'I liked a @YouTube video from @jmxfifa https://t.co/DiEPj8L8ho WTF!!! FIFA 17 TOP 10 DOWNGRADES ON ULTIMATE TEAM!?!', 'retweet_count': 0}\n"
     ]
    }
   ],
   "source": [
    "for x in collection.find({\"user_name\" : \"ScottTorpey\"}):\n",
    "  print(x) "
   ]
  },
  {
   "cell_type": "code",
   "execution_count": 10,
   "metadata": {
    "collapsed": false,
    "scrolled": true
   },
   "outputs": [
    {
     "name": "stdout",
     "output_type": "stream",
     "text": [
      "{'user_name': 'ScottTorpey', 'tweet_ID': '755891935462785025'}\n",
      "{'user_name': 'ScottTorpey', 'tweet_ID': '755891937677287424'}\n"
     ]
    }
   ],
   "source": [
    "for x in collection.find({\"user_name\" : \"ScottTorpey\"},{ \"_id\": 0, \"tweet_ID\": 1,\"user_name\": 1 }):\n",
    "  print(x) "
   ]
  },
  {
   "cell_type": "code",
   "execution_count": 11,
   "metadata": {
    "collapsed": false
   },
   "outputs": [
    {
     "name": "stdout",
     "output_type": "stream",
     "text": [
      "{'user_name': 'koteras', 'tweet_text': 'RT @ochocinco: I beat them all for 10 straight hours #FIFA16KING  https://t.co/BFnV6jfkBL'}\n",
      "{'user_name': 'Tonkatol', 'tweet_text': 'RT @GameSeek: Follow & Retweet for your chance to win a copy of FIFA 17 Deluxe Edition (platform of your choice) in our #giveaway! https://…'}\n",
      "{'user_name': 'Gaslet', 'tweet_text': '@CIVARAGI ...I was putting ffs but it autocorrected it too FIFA'}\n",
      "{'user_name': 'Syaxmii_', 'tweet_text': \"RT @GeniusFootball: You know it's FIFA... https://t.co/tLK6sTnPaM\"}\n",
      "{'user_name': 'CamSteele_96', 'tweet_text': 'RT @WeahsCousin: \"Pogba isn\\'t worth £100million.\"\\n\\nThanks Dean, the £500 you\\'ve spent on FIFA Ultimate Team probably wasn\\'t worth it either.'}\n"
     ]
    }
   ],
   "source": [
    "for x in collection.find({\"tweet_text\" : { \"$regex\": \".*FIFA*.\" }},{ \"_id\": 0, \"tweet_text\": 1,\"user_name\": 1 }).limit(5):\n",
    "  print(x) "
   ]
  },
  {
   "cell_type": "markdown",
   "metadata": {},
   "source": [
    "# Sorting"
   ]
  },
  {
   "cell_type": "code",
   "execution_count": 12,
   "metadata": {
    "collapsed": false
   },
   "outputs": [
    {
     "name": "stdout",
     "output_type": "stream",
     "text": [
      "{'user_name': 'zykovyulii85'}\n",
      "{'user_name': 'zumbazumba5'}\n",
      "{'user_name': 'zoomnaija'}\n",
      "{'user_name': 'ziyadxd'}\n",
      "{'user_name': 'zimisss'}\n",
      "{'user_name': 'zeezsalau'}\n",
      "{'user_name': 'zavvi'}\n",
      "{'user_name': 'zatchary12'}\n",
      "{'user_name': 'zarulaseng'}\n",
      "{'user_name': 'zarul_jim'}\n"
     ]
    }
   ],
   "source": [
    "for x in collection.find({\"tweet_text\" : { \"$regex\": \".*FIFA*.\" }},{ \"_id\": 0, \"user_name\": 1 }).limit(10).sort(\"user_name\", -1):\n",
    "  print(x) "
   ]
  },
  {
   "cell_type": "code",
   "execution_count": 13,
   "metadata": {
    "collapsed": false
   },
   "outputs": [
    {
     "name": "stdout",
     "output_type": "stream",
     "text": [
      "{'user_name': '07kennedyl'}\n",
      "{'user_name': '09dixonDixon'}\n",
      "{'user_name': '0riginalyst'}\n",
      "{'user_name': '1001ptsUK'}\n",
      "{'user_name': '1122Mfmf'}\n",
      "{'user_name': '178_sun'}\n",
      "{'user_name': '1CookieCrumbles'}\n",
      "{'user_name': '1Flaco_P'}\n",
      "{'user_name': '1Jamesoo'}\n",
      "{'user_name': '1Wilke'}\n"
     ]
    }
   ],
   "source": [
    "for x in collection.find({\"tweet_text\" : { \"$regex\": \".*FIFA*.\" }},{ \"_id\": 0, \"user_name\": 1 }).limit(10).sort(\"user_name\", 1):\n",
    "  print(x) "
   ]
  },
  {
   "cell_type": "code",
   "execution_count": 14,
   "metadata": {
    "collapsed": false
   },
   "outputs": [
    {
     "name": "stderr",
     "output_type": "stream",
     "text": [
      "/home/cloudera/anaconda3/lib/python3.5/site-packages/ipykernel/__main__.py:1: DeprecationWarning: count is deprecated. Use Collection.count_documents instead.\n",
      "  if __name__ == '__main__':\n"
     ]
    },
    {
     "data": {
      "text/plain": [
       "3698"
      ]
     },
     "execution_count": 14,
     "metadata": {},
     "output_type": "execute_result"
    }
   ],
   "source": [
    "collection.find({\"tweet_text\" : { \"$regex\": \".*FIFA*.\" }}).count()"
   ]
  },
  {
   "cell_type": "markdown",
   "metadata": {},
   "source": [
    "# Index creation"
   ]
  },
  {
   "cell_type": "code",
   "execution_count": 15,
   "metadata": {
    "collapsed": false
   },
   "outputs": [
    {
     "data": {
      "text/plain": [
       "'search_index'"
      ]
     },
     "execution_count": 15,
     "metadata": {},
     "output_type": "execute_result"
    }
   ],
   "source": [
    "collection.create_index([(\"tweet_text\", pymongo.TEXT)], name='search_index', default_language='english')"
   ]
  },
  {
   "cell_type": "markdown",
   "metadata": {},
   "source": [
    "# Using the index"
   ]
  },
  {
   "cell_type": "code",
   "execution_count": 16,
   "metadata": {
    "collapsed": false
   },
   "outputs": [
    {
     "name": "stderr",
     "output_type": "stream",
     "text": [
      "/home/cloudera/anaconda3/lib/python3.5/site-packages/ipykernel/__main__.py:1: DeprecationWarning: count is deprecated. Use Collection.count_documents instead.\n",
      "  if __name__ == '__main__':\n"
     ]
    },
    {
     "data": {
      "text/plain": [
       "4031"
      ]
     },
     "execution_count": 16,
     "metadata": {},
     "output_type": "execute_result"
    }
   ],
   "source": [
    "collection.find({\"$text\" : { \"$search\": \".*FIFA*.\" }}).count()"
   ]
  },
  {
   "cell_type": "code",
   "execution_count": 17,
   "metadata": {
    "collapsed": false
   },
   "outputs": [
    {
     "name": "stderr",
     "output_type": "stream",
     "text": [
      "/home/cloudera/anaconda3/lib/python3.5/site-packages/ipykernel/__main__.py:1: DeprecationWarning: count is deprecated. Use Collection.count_documents instead.\n",
      "  if __name__ == '__main__':\n"
     ]
    },
    {
     "data": {
      "text/plain": [
       "4022"
      ]
     },
     "execution_count": 17,
     "metadata": {},
     "output_type": "execute_result"
    }
   ],
   "source": [
    "collection.find({\"$text\" : { \"$search\": \"FIFA - Texas\" }}).count()"
   ]
  },
  {
   "cell_type": "code",
   "execution_count": 18,
   "metadata": {
    "collapsed": false
   },
   "outputs": [
    {
     "name": "stderr",
     "output_type": "stream",
     "text": [
      "/home/cloudera/anaconda3/lib/python3.5/site-packages/ipykernel/__main__.py:1: DeprecationWarning: count is deprecated. Use Collection.count_documents instead.\n",
      "  if __name__ == '__main__':\n"
     ]
    },
    {
     "data": {
      "text/plain": [
       "4"
      ]
     },
     "execution_count": 18,
     "metadata": {},
     "output_type": "execute_result"
    }
   ],
   "source": [
    "collection.find({\"tweet_mentioned_count\" : { \"$gt\": 6 }}).count()"
   ]
  },
  {
   "cell_type": "markdown",
   "metadata": {},
   "source": [
    "# Where / And"
   ]
  },
  {
   "cell_type": "code",
   "execution_count": 19,
   "metadata": {
    "collapsed": false
   },
   "outputs": [
    {
     "name": "stderr",
     "output_type": "stream",
     "text": [
      "/home/cloudera/anaconda3/lib/python3.5/site-packages/ipykernel/__main__.py:1: DeprecationWarning: count is deprecated. Use Collection.count_documents instead.\n",
      "  if __name__ == '__main__':\n"
     ]
    },
    {
     "data": {
      "text/plain": [
       "18"
      ]
     },
     "execution_count": 19,
     "metadata": {},
     "output_type": "execute_result"
    }
   ],
   "source": [
    "collection.find({\"$where\" : \"this.tweet_mentioned_count > this.tweet_followers_count\"}).count()"
   ]
  },
  {
   "cell_type": "code",
   "execution_count": 20,
   "metadata": {
    "collapsed": false
   },
   "outputs": [
    {
     "name": "stderr",
     "output_type": "stream",
     "text": [
      "/home/cloudera/anaconda3/lib/python3.5/site-packages/ipykernel/__main__.py:3: DeprecationWarning: count is deprecated. Use Collection.count_documents instead.\n",
      "  app.launch_new_instance()\n"
     ]
    },
    {
     "data": {
      "text/plain": [
       "1"
      ]
     },
     "execution_count": 20,
     "metadata": {},
     "output_type": "execute_result"
    }
   ],
   "source": [
    "collection.find({\"$and\" : [\n",
    "            {\"tweet_text\" : { \"$regex\": \".*FIFA*.\" }},\n",
    "            {\"tweet_mentioned_count\" : { \"$gt\": 4 }}\n",
    "            ]}).count()"
   ]
  },
  {
   "cell_type": "code",
   "execution_count": 21,
   "metadata": {
    "collapsed": true
   },
   "outputs": [],
   "source": [
    "# $eq Matches values that are equal to a specified value.\n",
    "# $gt Matches values that are greater than a specified value.\n",
    "# $gte Matches values that are greater than or equal to a specified value.\n",
    "# $lt Matches values that are less than a specified value.\n",
    "# $lte Matches values that are less than or equal to a specified value.\n",
    "# $ne Matches all values that are not equal to a specified value.\n",
    "# $in Matches any of the values specified in an array.\n",
    "# $nin Matches none of the values specified in an array.\n",
    "# $or Joins query clauses with a logical OR.\n",
    "# $and Joins query clauses with a logical AND.\n",
    "# $not Inverts the effect of a query expression.\n",
    "# $nor Joins query clauses with a logical NOR."
   ]
  },
  {
   "cell_type": "code",
   "execution_count": 24,
   "metadata": {
    "collapsed": false
   },
   "outputs": [
    {
     "name": "stdout",
     "output_type": "stream",
     "text": [
      "{'user_name': 'FIFAcom', 'tweet_followers_count': 8973882}\n",
      "{'user_name': 'FIFAWorldCup', 'tweet_followers_count': 4088321}\n",
      "{'user_name': 'ESPNNFL', 'tweet_followers_count': 1930088}\n",
      "{'user_name': 'channelstv', 'tweet_followers_count': 1886626}\n",
      "{'user_name': 'TSBible', 'tweet_followers_count': 1242832}\n",
      "{'user_name': 'midoahm', 'tweet_followers_count': 1241159}\n",
      "{'user_name': 'NigeriaNewsdesk', 'tweet_followers_count': 1217575}\n",
      "{'user_name': 'NigeriaNewsdesk', 'tweet_followers_count': 1217541}\n",
      "{'user_name': 'NigeriaNewsdesk', 'tweet_followers_count': 1217515}\n",
      "{'user_name': 'ntvkenya', 'tweet_followers_count': 1216631}\n"
     ]
    }
   ],
   "source": [
    "for x in collection.find({\"$where\" : \"this.tweet_followers_count > 50000\"},{ \"_id\": 0, \"user_name\": 1 , \"tweet_followers_count\": 1}).limit(10).sort(\"tweet_followers_count\", -1):\n",
    "  print(x) "
   ]
  }
 ],
 "metadata": {
  "kernelspec": {
   "display_name": "Python 3",
   "language": "python",
   "name": "python3"
  },
  "language_info": {
   "codemirror_mode": {
    "name": "ipython",
    "version": 3
   },
   "file_extension": ".py",
   "mimetype": "text/x-python",
   "name": "python",
   "nbconvert_exporter": "python",
   "pygments_lexer": "ipython3",
   "version": "3.5.1"
  }
 },
 "nbformat": 4,
 "nbformat_minor": 0
}
