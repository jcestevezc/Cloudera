{
  "nbformat": 4,
  "nbformat_minor": 0,
  "metadata": {
    "colab": {
      "name": "Spark Catalog and transformations.ipynb",
      "provenance": [],
      "authorship_tag": "ABX9TyOTHNMeReJYwjc/+UBLRowb",
      "include_colab_link": true
    },
    "kernelspec": {
      "name": "python3",
      "display_name": "Python 3"
    }
  },
  "cells": [
    {
      "cell_type": "markdown",
      "metadata": {
        "id": "view-in-github",
        "colab_type": "text"
      },
      "source": [
        "<a href=\"https://colab.research.google.com/github/jcestevezc/Cloudera/blob/master/Spark/Introduction%20to%20PySpark/Spark%20Catalog%20and%20transformations.ipynb\" target=\"_parent\"><img src=\"https://colab.research.google.com/assets/colab-badge.svg\" alt=\"Open In Colab\"/></a>"
      ]
    },
    {
      "cell_type": "code",
      "metadata": {
        "id": "mEGQvc3kBWCA",
        "colab_type": "code",
        "colab": {}
      },
      "source": [
        " #! pip install pyspark\n",
        "import pandas as pd"
      ],
      "execution_count": 1,
      "outputs": []
    },
    {
      "cell_type": "markdown",
      "metadata": {
        "id": "fsjhJQk4BgBG",
        "colab_type": "text"
      },
      "source": [
        "#Connecting to Clusters\n",
        "\n",
        "Creating the connection is as simple as creating an instance of the SparkContext class. The class constructor takes a few optional arguments that allow you to specify the attributes of the cluster you're connecting to."
      ]
    },
    {
      "cell_type": "code",
      "metadata": {
        "id": "nd8x7Gs6Bo9X",
        "colab_type": "code",
        "colab": {}
      },
      "source": [
        "# Verify SparkContext\n",
        "#print(sc)\n",
        "\n",
        "# Print Spark version\n",
        "#print(sc.version)"
      ],
      "execution_count": 2,
      "outputs": []
    },
    {
      "cell_type": "markdown",
      "metadata": {
        "id": "JRX_ToWGC_WS",
        "colab_type": "text"
      },
      "source": [
        "# RRDs\n",
        "\n",
        "Spark's core data structure is the Resilient Distributed Dataset (RDD). This is a low level object that lets Spark work its magic by splitting data across multiple nodes in the cluster. \n",
        "\n",
        "# Dataframes\n",
        "\n",
        "The Spark DataFrames are abstraction built on top of RDDs. The Spark DataFrame was designed to behave a lot like a SQL table (a table with variables in the columns and observations in the rows). Not only are they easier to understand, DataFrames are also more optimized for complicated operations than RDDs.\n",
        "\n",
        "# Spark Context and Spark Sessions\n",
        "\n",
        "You can think of the SparkContext as your connection to the cluster and the SparkSession as your interface with that connection."
      ]
    },
    {
      "cell_type": "code",
      "metadata": {
        "id": "GiGIgBjNBfs9",
        "colab_type": "code",
        "colab": {
          "base_uri": "https://localhost:8080/",
          "height": 33
        },
        "outputId": "836dcef7-b579-40fd-ad8b-fdac24b3b4d4"
      },
      "source": [
        "# Import SparkSession from \n",
        "from pyspark.sql import SparkSession\n",
        "\n",
        "# Create Session\n",
        "spark = SparkSession.builder.getOrCreate()\n",
        "\n",
        "# Print spark\n",
        "print(spark)"
      ],
      "execution_count": 3,
      "outputs": [
        {
          "output_type": "stream",
          "text": [
            "<pyspark.sql.session.SparkSession object at 0x7f1ad440ecf8>\n"
          ],
          "name": "stdout"
        }
      ]
    },
    {
      "cell_type": "markdown",
      "metadata": {
        "id": "tYvKCTi7EY_f",
        "colab_type": "text"
      },
      "source": [
        "# Consulting the Spark Catalog\n",
        "\n",
        "Once you've created a SparkSession, you can start poking around to see what data is in your cluster!\n",
        "\n",
        "Your SparkSession has an attribute called catalog which lists all the data inside the cluster. This attribute has a few methods for extracting different pieces of information.\n",
        "\n",
        "One of the most useful is the .listTables() method, which returns the names of all the tables in your cluster as a list."
      ]
    },
    {
      "cell_type": "code",
      "metadata": {
        "id": "QMdkWliGEL4h",
        "colab_type": "code",
        "colab": {
          "base_uri": "https://localhost:8080/",
          "height": 33
        },
        "outputId": "cb086eb0-5dc7-4e89-a1e6-c1b9aed939f8"
      },
      "source": [
        "print(spark.catalog.listTables())"
      ],
      "execution_count": 4,
      "outputs": [
        {
          "output_type": "stream",
          "text": [
            "[]\n"
          ],
          "name": "stdout"
        }
      ]
    },
    {
      "cell_type": "markdown",
      "metadata": {
        "id": "kJN6xkfHGi9b",
        "colab_type": "text"
      },
      "source": [
        "## Creating a view in Spark Catalog"
      ]
    },
    {
      "cell_type": "markdown",
      "metadata": {
        "id": "XMhRcCQAKQu4",
        "colab_type": "text"
      },
      "source": [
        "### Loading the data using a pandas dataframe"
      ]
    },
    {
      "cell_type": "code",
      "metadata": {
        "id": "DSuZAVkcH9ZZ",
        "colab_type": "code",
        "colab": {
          "base_uri": "https://localhost:8080/",
          "height": 196
        },
        "outputId": "4d24cd71-6841-4d07-ee36-2a23ae7e5c74"
      },
      "source": [
        "url = 'https://raw.githubusercontent.com/jcestevezc/Cloudera/master/Spark/Introduction%20to%20PySpark/flights_small.csv'\n",
        "data = pd.read_csv(url)\n",
        "\n",
        "data.head()"
      ],
      "execution_count": 5,
      "outputs": [
        {
          "output_type": "execute_result",
          "data": {
            "text/html": [
              "<div>\n",
              "<style scoped>\n",
              "    .dataframe tbody tr th:only-of-type {\n",
              "        vertical-align: middle;\n",
              "    }\n",
              "\n",
              "    .dataframe tbody tr th {\n",
              "        vertical-align: top;\n",
              "    }\n",
              "\n",
              "    .dataframe thead th {\n",
              "        text-align: right;\n",
              "    }\n",
              "</style>\n",
              "<table border=\"1\" class=\"dataframe\">\n",
              "  <thead>\n",
              "    <tr style=\"text-align: right;\">\n",
              "      <th></th>\n",
              "      <th>year</th>\n",
              "      <th>month</th>\n",
              "      <th>day</th>\n",
              "      <th>dep_time</th>\n",
              "      <th>dep_delay</th>\n",
              "      <th>arr_time</th>\n",
              "      <th>arr_delay</th>\n",
              "      <th>carrier</th>\n",
              "      <th>tailnum</th>\n",
              "      <th>flight</th>\n",
              "      <th>origin</th>\n",
              "      <th>dest</th>\n",
              "      <th>air_time</th>\n",
              "      <th>distance</th>\n",
              "      <th>hour</th>\n",
              "      <th>minute</th>\n",
              "    </tr>\n",
              "  </thead>\n",
              "  <tbody>\n",
              "    <tr>\n",
              "      <th>0</th>\n",
              "      <td>2014</td>\n",
              "      <td>12</td>\n",
              "      <td>8</td>\n",
              "      <td>658.0</td>\n",
              "      <td>-7.0</td>\n",
              "      <td>935.0</td>\n",
              "      <td>-5.0</td>\n",
              "      <td>VX</td>\n",
              "      <td>N846VA</td>\n",
              "      <td>1780</td>\n",
              "      <td>SEA</td>\n",
              "      <td>LAX</td>\n",
              "      <td>132.0</td>\n",
              "      <td>954</td>\n",
              "      <td>6.0</td>\n",
              "      <td>58.0</td>\n",
              "    </tr>\n",
              "    <tr>\n",
              "      <th>1</th>\n",
              "      <td>2014</td>\n",
              "      <td>1</td>\n",
              "      <td>22</td>\n",
              "      <td>1040.0</td>\n",
              "      <td>5.0</td>\n",
              "      <td>1505.0</td>\n",
              "      <td>5.0</td>\n",
              "      <td>AS</td>\n",
              "      <td>N559AS</td>\n",
              "      <td>851</td>\n",
              "      <td>SEA</td>\n",
              "      <td>HNL</td>\n",
              "      <td>360.0</td>\n",
              "      <td>2677</td>\n",
              "      <td>10.0</td>\n",
              "      <td>40.0</td>\n",
              "    </tr>\n",
              "    <tr>\n",
              "      <th>2</th>\n",
              "      <td>2014</td>\n",
              "      <td>3</td>\n",
              "      <td>9</td>\n",
              "      <td>1443.0</td>\n",
              "      <td>-2.0</td>\n",
              "      <td>1652.0</td>\n",
              "      <td>2.0</td>\n",
              "      <td>VX</td>\n",
              "      <td>N847VA</td>\n",
              "      <td>755</td>\n",
              "      <td>SEA</td>\n",
              "      <td>SFO</td>\n",
              "      <td>111.0</td>\n",
              "      <td>679</td>\n",
              "      <td>14.0</td>\n",
              "      <td>43.0</td>\n",
              "    </tr>\n",
              "    <tr>\n",
              "      <th>3</th>\n",
              "      <td>2014</td>\n",
              "      <td>4</td>\n",
              "      <td>9</td>\n",
              "      <td>1705.0</td>\n",
              "      <td>45.0</td>\n",
              "      <td>1839.0</td>\n",
              "      <td>34.0</td>\n",
              "      <td>WN</td>\n",
              "      <td>N360SW</td>\n",
              "      <td>344</td>\n",
              "      <td>PDX</td>\n",
              "      <td>SJC</td>\n",
              "      <td>83.0</td>\n",
              "      <td>569</td>\n",
              "      <td>17.0</td>\n",
              "      <td>5.0</td>\n",
              "    </tr>\n",
              "    <tr>\n",
              "      <th>4</th>\n",
              "      <td>2014</td>\n",
              "      <td>3</td>\n",
              "      <td>9</td>\n",
              "      <td>754.0</td>\n",
              "      <td>-1.0</td>\n",
              "      <td>1015.0</td>\n",
              "      <td>1.0</td>\n",
              "      <td>AS</td>\n",
              "      <td>N612AS</td>\n",
              "      <td>522</td>\n",
              "      <td>SEA</td>\n",
              "      <td>BUR</td>\n",
              "      <td>127.0</td>\n",
              "      <td>937</td>\n",
              "      <td>7.0</td>\n",
              "      <td>54.0</td>\n",
              "    </tr>\n",
              "  </tbody>\n",
              "</table>\n",
              "</div>"
            ],
            "text/plain": [
              "   year  month  day  dep_time  dep_delay  ...  dest  air_time distance  hour  minute\n",
              "0  2014     12    8     658.0       -7.0  ...   LAX     132.0      954   6.0    58.0\n",
              "1  2014      1   22    1040.0        5.0  ...   HNL     360.0     2677  10.0    40.0\n",
              "2  2014      3    9    1443.0       -2.0  ...   SFO     111.0      679  14.0    43.0\n",
              "3  2014      4    9    1705.0       45.0  ...   SJC      83.0      569  17.0     5.0\n",
              "4  2014      3    9     754.0       -1.0  ...   BUR     127.0      937   7.0    54.0\n",
              "\n",
              "[5 rows x 16 columns]"
            ]
          },
          "metadata": {
            "tags": []
          },
          "execution_count": 5
        }
      ]
    },
    {
      "cell_type": "code",
      "metadata": {
        "id": "jR6mT7OHGpuq",
        "colab_type": "code",
        "colab": {
          "base_uri": "https://localhost:8080/",
          "height": 50
        },
        "outputId": "1a2da153-2ba4-491a-8ab9-ce6c4047265f"
      },
      "source": [
        "# Create spark_temp from pd_temp\n",
        "spark_temp = spark.createDataFrame(data.astype(str))\n",
        "\n",
        "# Examine the tables in the catalog\n",
        "print(spark.catalog.listTables())\n",
        "\n",
        "# Add spark_temp to the catalog\n",
        "spark_temp.createOrReplaceTempView('flights')\n",
        "\n",
        "# Examine the tables in the catalog again\n",
        "print(spark.catalog.listTables())"
      ],
      "execution_count": 6,
      "outputs": [
        {
          "output_type": "stream",
          "text": [
            "[]\n",
            "[Table(name='flights', database=None, description=None, tableType='TEMPORARY', isTemporary=True)]\n"
          ],
          "name": "stdout"
        }
      ]
    },
    {
      "cell_type": "code",
      "metadata": {
        "id": "ZEdmtdI0GH8z",
        "colab_type": "code",
        "colab": {
          "base_uri": "https://localhost:8080/",
          "height": 268
        },
        "outputId": "ccc279ba-8c2e-4a7e-fd80-3993a75105e9"
      },
      "source": [
        "# Don't change this query\n",
        "query = \"FROM flights SELECT * LIMIT 10\"\n",
        "\n",
        "# Get the first 10 rows of flights\n",
        "flights10 = spark.sql(query)\n",
        "\n",
        "# Show the results\n",
        "flights10.show()"
      ],
      "execution_count": 7,
      "outputs": [
        {
          "output_type": "stream",
          "text": [
            "+----+-----+---+--------+---------+--------+---------+-------+-------+------+------+----+--------+--------+----+------+\n",
            "|year|month|day|dep_time|dep_delay|arr_time|arr_delay|carrier|tailnum|flight|origin|dest|air_time|distance|hour|minute|\n",
            "+----+-----+---+--------+---------+--------+---------+-------+-------+------+------+----+--------+--------+----+------+\n",
            "|2014|   12|  8|   658.0|     -7.0|   935.0|     -5.0|     VX| N846VA|  1780|   SEA| LAX|   132.0|     954| 6.0|  58.0|\n",
            "|2014|    1| 22|  1040.0|      5.0|  1505.0|      5.0|     AS| N559AS|   851|   SEA| HNL|   360.0|    2677|10.0|  40.0|\n",
            "|2014|    3|  9|  1443.0|     -2.0|  1652.0|      2.0|     VX| N847VA|   755|   SEA| SFO|   111.0|     679|14.0|  43.0|\n",
            "|2014|    4|  9|  1705.0|     45.0|  1839.0|     34.0|     WN| N360SW|   344|   PDX| SJC|    83.0|     569|17.0|   5.0|\n",
            "|2014|    3|  9|   754.0|     -1.0|  1015.0|      1.0|     AS| N612AS|   522|   SEA| BUR|   127.0|     937| 7.0|  54.0|\n",
            "|2014|    1| 15|  1037.0|      7.0|  1352.0|      2.0|     WN| N646SW|    48|   PDX| DEN|   121.0|     991|10.0|  37.0|\n",
            "|2014|    7|  2|   847.0|     42.0|  1041.0|     51.0|     WN| N422WN|  1520|   PDX| OAK|    90.0|     543| 8.0|  47.0|\n",
            "|2014|    5| 12|  1655.0|     -5.0|  1842.0|    -18.0|     VX| N361VA|   755|   SEA| SFO|    98.0|     679|16.0|  55.0|\n",
            "|2014|    4| 19|  1236.0|     -4.0|  1508.0|     -7.0|     AS| N309AS|   490|   SEA| SAN|   135.0|    1050|12.0|  36.0|\n",
            "|2014|   11| 19|  1812.0|     -3.0|  2352.0|     -4.0|     AS| N564AS|    26|   SEA| ORD|   198.0|    1721|18.0|  12.0|\n",
            "+----+-----+---+--------+---------+--------+---------+-------+-------+------+------+----+--------+--------+----+------+\n",
            "\n"
          ],
          "name": "stdout"
        }
      ]
    },
    {
      "cell_type": "markdown",
      "metadata": {
        "id": "VoZifq41KdlU",
        "colab_type": "text"
      },
      "source": [
        "### Loading the data using a spark dataframe"
      ]
    },
    {
      "cell_type": "code",
      "metadata": {
        "id": "Y-yY9RI6KcvU",
        "colab_type": "code",
        "colab": {
          "base_uri": "https://localhost:8080/",
          "height": 201
        },
        "outputId": "bae4bc06-33d7-4224-8a58-10da180a38eb"
      },
      "source": [
        "# Loading the data\n",
        "file_path = '/content/sample_data/airports.csv'\n",
        "\n",
        "# Read in the airports data\n",
        "airports = spark.read.csv(file_path,header=True)\n",
        "\n",
        "# Show the data\n",
        "airports.show(5)"
      ],
      "execution_count": 8,
      "outputs": [
        {
          "output_type": "stream",
          "text": [
            "+---+--------------------+----------+-----------+----+---+---+\n",
            "|faa|                name|       lat|        lon| alt| tz|dst|\n",
            "+---+--------------------+----------+-----------+----+---+---+\n",
            "|04G|   Lansdowne Airport|41.1304722|-80.6195833|1044| -5|  A|\n",
            "|06A|Moton Field Munic...|32.4605722|-85.6800278| 264| -5|  A|\n",
            "|06C| Schaumburg Regional|41.9893408|-88.1012428| 801| -6|  A|\n",
            "|06N|     Randall Airport| 41.431912|-74.3915611| 523| -5|  A|\n",
            "|09J|Jekyll Island Air...|31.0744722|-81.4277778|  11| -4|  A|\n",
            "+---+--------------------+----------+-----------+----+---+---+\n",
            "only showing top 5 rows\n",
            "\n"
          ],
          "name": "stdout"
        }
      ]
    },
    {
      "cell_type": "markdown",
      "metadata": {
        "id": "8xuDbdaHSKga",
        "colab_type": "text"
      },
      "source": [
        "## Data transformation"
      ]
    },
    {
      "cell_type": "markdown",
      "metadata": {
        "id": "HCT94Z2wSXqW",
        "colab_type": "text"
      },
      "source": [
        "### Creating columns\n",
        "\n",
        "In Spark you can do this using the .withColumn() method, which takes two arguments. First, a string with the name of your new column, and second the new column itself.\n",
        "\n",
        "The new column must be an object of class Column. Creating one of these is as easy as extracting a column from your DataFrame using df.colName.\n",
        "\n",
        "Updating a Spark DataFrame is somewhat different than working in pandas because the Spark DataFrame is immutable. This means that it can't be changed, and so columns can't be updated in place."
      ]
    },
    {
      "cell_type": "code",
      "metadata": {
        "id": "urmwWZ9vTINq",
        "colab_type": "code",
        "colab": {}
      },
      "source": [
        "# Reading the DataFrame flights\n",
        "flights = spark.table(\"flights\")"
      ],
      "execution_count": 9,
      "outputs": []
    },
    {
      "cell_type": "code",
      "metadata": {
        "id": "xHTftW29AC3v",
        "colab_type": "code",
        "colab": {
          "base_uri": "https://localhost:8080/",
          "height": 318
        },
        "outputId": "61fc217d-04c2-4829-b369-3825b56dc3ee"
      },
      "source": [
        "# Showing the squema\n",
        "flights.printSchema()"
      ],
      "execution_count": 10,
      "outputs": [
        {
          "output_type": "stream",
          "text": [
            "root\n",
            " |-- year: string (nullable = true)\n",
            " |-- month: string (nullable = true)\n",
            " |-- day: string (nullable = true)\n",
            " |-- dep_time: string (nullable = true)\n",
            " |-- dep_delay: string (nullable = true)\n",
            " |-- arr_time: string (nullable = true)\n",
            " |-- arr_delay: string (nullable = true)\n",
            " |-- carrier: string (nullable = true)\n",
            " |-- tailnum: string (nullable = true)\n",
            " |-- flight: string (nullable = true)\n",
            " |-- origin: string (nullable = true)\n",
            " |-- dest: string (nullable = true)\n",
            " |-- air_time: string (nullable = true)\n",
            " |-- distance: string (nullable = true)\n",
            " |-- hour: string (nullable = true)\n",
            " |-- minute: string (nullable = true)\n",
            "\n"
          ],
          "name": "stdout"
        }
      ]
    },
    {
      "cell_type": "code",
      "metadata": {
        "id": "la4WbvVcTK9v",
        "colab_type": "code",
        "colab": {
          "base_uri": "https://localhost:8080/",
          "height": 201
        },
        "outputId": "e99b5c80-7e92-4983-ad3a-9a838524a496"
      },
      "source": [
        "# Show the head\n",
        "flights.show(5)"
      ],
      "execution_count": 11,
      "outputs": [
        {
          "output_type": "stream",
          "text": [
            "+----+-----+---+--------+---------+--------+---------+-------+-------+------+------+----+--------+--------+----+------+\n",
            "|year|month|day|dep_time|dep_delay|arr_time|arr_delay|carrier|tailnum|flight|origin|dest|air_time|distance|hour|minute|\n",
            "+----+-----+---+--------+---------+--------+---------+-------+-------+------+------+----+--------+--------+----+------+\n",
            "|2014|   12|  8|   658.0|     -7.0|   935.0|     -5.0|     VX| N846VA|  1780|   SEA| LAX|   132.0|     954| 6.0|  58.0|\n",
            "|2014|    1| 22|  1040.0|      5.0|  1505.0|      5.0|     AS| N559AS|   851|   SEA| HNL|   360.0|    2677|10.0|  40.0|\n",
            "|2014|    3|  9|  1443.0|     -2.0|  1652.0|      2.0|     VX| N847VA|   755|   SEA| SFO|   111.0|     679|14.0|  43.0|\n",
            "|2014|    4|  9|  1705.0|     45.0|  1839.0|     34.0|     WN| N360SW|   344|   PDX| SJC|    83.0|     569|17.0|   5.0|\n",
            "|2014|    3|  9|   754.0|     -1.0|  1015.0|      1.0|     AS| N612AS|   522|   SEA| BUR|   127.0|     937| 7.0|  54.0|\n",
            "+----+-----+---+--------+---------+--------+---------+-------+-------+------+------+----+--------+--------+----+------+\n",
            "only showing top 5 rows\n",
            "\n"
          ],
          "name": "stdout"
        }
      ]
    },
    {
      "cell_type": "markdown",
      "metadata": {
        "id": "DBnwayifTg7B",
        "colab_type": "text"
      },
      "source": [
        "Thus, all these methods return a new DataFrame. To overwrite the original DataFrame you must reassign the returned DataFrame using the method like so:"
      ]
    },
    {
      "cell_type": "code",
      "metadata": {
        "id": "xBlxmTDNTgFP",
        "colab_type": "code",
        "colab": {
          "base_uri": "https://localhost:8080/",
          "height": 201
        },
        "outputId": "5343e358-69e9-4151-eb57-f1922bf9c113"
      },
      "source": [
        "flights = flights.withColumn(\"duration_hrs\",flights.air_time/60)\n",
        "flights.show(5)"
      ],
      "execution_count": 12,
      "outputs": [
        {
          "output_type": "stream",
          "text": [
            "+----+-----+---+--------+---------+--------+---------+-------+-------+------+------+----+--------+--------+----+------+------------------+\n",
            "|year|month|day|dep_time|dep_delay|arr_time|arr_delay|carrier|tailnum|flight|origin|dest|air_time|distance|hour|minute|      duration_hrs|\n",
            "+----+-----+---+--------+---------+--------+---------+-------+-------+------+------+----+--------+--------+----+------+------------------+\n",
            "|2014|   12|  8|   658.0|     -7.0|   935.0|     -5.0|     VX| N846VA|  1780|   SEA| LAX|   132.0|     954| 6.0|  58.0|               2.2|\n",
            "|2014|    1| 22|  1040.0|      5.0|  1505.0|      5.0|     AS| N559AS|   851|   SEA| HNL|   360.0|    2677|10.0|  40.0|               6.0|\n",
            "|2014|    3|  9|  1443.0|     -2.0|  1652.0|      2.0|     VX| N847VA|   755|   SEA| SFO|   111.0|     679|14.0|  43.0|              1.85|\n",
            "|2014|    4|  9|  1705.0|     45.0|  1839.0|     34.0|     WN| N360SW|   344|   PDX| SJC|    83.0|     569|17.0|   5.0|1.3833333333333333|\n",
            "|2014|    3|  9|   754.0|     -1.0|  1015.0|      1.0|     AS| N612AS|   522|   SEA| BUR|   127.0|     937| 7.0|  54.0|2.1166666666666667|\n",
            "+----+-----+---+--------+---------+--------+---------+-------+-------+------+------+----+--------+--------+----+------+------------------+\n",
            "only showing top 5 rows\n",
            "\n"
          ],
          "name": "stdout"
        }
      ]
    },
    {
      "cell_type": "markdown",
      "metadata": {
        "id": "oLnwD5i-UFnp",
        "colab_type": "text"
      },
      "source": [
        "### Filtering Data\n",
        "\n",
        "Let's take a look at the .filter() method. As you might suspect, this is the Spark counterpart of SQL's WHERE clause. The .filter() method takes either an expression that would follow the WHERE clause of a SQL expression as a string, or a Spark Column of boolean (True/False) values.\n",
        "\n",
        "For example, the following two expressions will produce the same output:"
      ]
    },
    {
      "cell_type": "code",
      "metadata": {
        "id": "eAFXhHBTUbAh",
        "colab_type": "code",
        "colab": {
          "base_uri": "https://localhost:8080/",
          "height": 385
        },
        "outputId": "67c86877-4437-4991-fbef-d64d7493c196"
      },
      "source": [
        "flights.filter(\"air_time > 120\").show(5)\n",
        "flights.filter(flights.air_time > 120).show(5)"
      ],
      "execution_count": 13,
      "outputs": [
        {
          "output_type": "stream",
          "text": [
            "+----+-----+---+--------+---------+--------+---------+-------+-------+------+------+----+--------+--------+----+------+------------------+\n",
            "|year|month|day|dep_time|dep_delay|arr_time|arr_delay|carrier|tailnum|flight|origin|dest|air_time|distance|hour|minute|      duration_hrs|\n",
            "+----+-----+---+--------+---------+--------+---------+-------+-------+------+------+----+--------+--------+----+------+------------------+\n",
            "|2014|   12|  8|   658.0|     -7.0|   935.0|     -5.0|     VX| N846VA|  1780|   SEA| LAX|   132.0|     954| 6.0|  58.0|               2.2|\n",
            "|2014|    1| 22|  1040.0|      5.0|  1505.0|      5.0|     AS| N559AS|   851|   SEA| HNL|   360.0|    2677|10.0|  40.0|               6.0|\n",
            "|2014|    3|  9|   754.0|     -1.0|  1015.0|      1.0|     AS| N612AS|   522|   SEA| BUR|   127.0|     937| 7.0|  54.0|2.1166666666666667|\n",
            "|2014|    1| 15|  1037.0|      7.0|  1352.0|      2.0|     WN| N646SW|    48|   PDX| DEN|   121.0|     991|10.0|  37.0|2.0166666666666666|\n",
            "|2014|    4| 19|  1236.0|     -4.0|  1508.0|     -7.0|     AS| N309AS|   490|   SEA| SAN|   135.0|    1050|12.0|  36.0|              2.25|\n",
            "+----+-----+---+--------+---------+--------+---------+-------+-------+------+------+----+--------+--------+----+------+------------------+\n",
            "only showing top 5 rows\n",
            "\n",
            "+----+-----+---+--------+---------+--------+---------+-------+-------+------+------+----+--------+--------+----+------+------------------+\n",
            "|year|month|day|dep_time|dep_delay|arr_time|arr_delay|carrier|tailnum|flight|origin|dest|air_time|distance|hour|minute|      duration_hrs|\n",
            "+----+-----+---+--------+---------+--------+---------+-------+-------+------+------+----+--------+--------+----+------+------------------+\n",
            "|2014|   12|  8|   658.0|     -7.0|   935.0|     -5.0|     VX| N846VA|  1780|   SEA| LAX|   132.0|     954| 6.0|  58.0|               2.2|\n",
            "|2014|    1| 22|  1040.0|      5.0|  1505.0|      5.0|     AS| N559AS|   851|   SEA| HNL|   360.0|    2677|10.0|  40.0|               6.0|\n",
            "|2014|    3|  9|   754.0|     -1.0|  1015.0|      1.0|     AS| N612AS|   522|   SEA| BUR|   127.0|     937| 7.0|  54.0|2.1166666666666667|\n",
            "|2014|    1| 15|  1037.0|      7.0|  1352.0|      2.0|     WN| N646SW|    48|   PDX| DEN|   121.0|     991|10.0|  37.0|2.0166666666666666|\n",
            "|2014|    4| 19|  1236.0|     -4.0|  1508.0|     -7.0|     AS| N309AS|   490|   SEA| SAN|   135.0|    1050|12.0|  36.0|              2.25|\n",
            "+----+-----+---+--------+---------+--------+---------+-------+-------+------+------+----+--------+--------+----+------+------------------+\n",
            "only showing top 5 rows\n",
            "\n"
          ],
          "name": "stdout"
        }
      ]
    },
    {
      "cell_type": "markdown",
      "metadata": {
        "id": "cPP7qeZQV1qt",
        "colab_type": "text"
      },
      "source": [
        "For multple filter use:"
      ]
    },
    {
      "cell_type": "code",
      "metadata": {
        "id": "vEULN3u6V8K3",
        "colab_type": "code",
        "colab": {
          "base_uri": "https://localhost:8080/",
          "height": 201
        },
        "outputId": "05520588-46bb-448b-bb5b-4f6d4170ccd9"
      },
      "source": [
        "# Define first filter\n",
        "filterA = flights.origin == \"SEA\"\n",
        "\n",
        "# Define second filter\n",
        "filterB = flights.dest == \"PDX\"\n",
        "\n",
        "# Filter the data, first by filterA then by filterB\n",
        "flights.filter(filterA).filter(filterB).show(5)"
      ],
      "execution_count": 14,
      "outputs": [
        {
          "output_type": "stream",
          "text": [
            "+----+-----+---+--------+---------+--------+---------+-------+-------+------+------+----+--------+--------+----+------+-------------------+\n",
            "|year|month|day|dep_time|dep_delay|arr_time|arr_delay|carrier|tailnum|flight|origin|dest|air_time|distance|hour|minute|       duration_hrs|\n",
            "+----+-----+---+--------+---------+--------+---------+-------+-------+------+------+----+--------+--------+----+------+-------------------+\n",
            "|2014|   10|  1|  1717.0|     -8.0|  1819.0|      4.0|     OO| N810SK|  4546|   SEA| PDX|    28.0|     129|17.0|  17.0| 0.4666666666666667|\n",
            "|2014|    9| 26|  2339.0|    144.0|    29.0|    142.0|     OO| N822SK|  4612|   SEA| PDX|    29.0|     129|23.0|  39.0|0.48333333333333334|\n",
            "|2014|    8| 18|  1728.0|     -2.0|  1822.0|      0.0|     OO| N586SW|  5440|   SEA| PDX|    41.0|     129|17.0|  28.0| 0.6833333333333333|\n",
            "|2014|    2|  4|  2053.0|     -7.0|  2144.0|     -4.0|     OO| N223SW|  5433|   SEA| PDX|    29.0|     129|20.0|  53.0|0.48333333333333334|\n",
            "|2014|    2|  9|  1058.0|    133.0|  1158.0|    145.0|     OO| N580SW|  5438|   SEA| PDX|    35.0|     129|10.0|  58.0| 0.5833333333333334|\n",
            "+----+-----+---+--------+---------+--------+---------+-------+-------+------+------+----+--------+--------+----+------+-------------------+\n",
            "only showing top 5 rows\n",
            "\n"
          ],
          "name": "stdout"
        }
      ]
    },
    {
      "cell_type": "markdown",
      "metadata": {
        "id": "va8PLGFYU1Q3",
        "colab_type": "text"
      },
      "source": [
        "### Selecting\n",
        "\n",
        "The Spark variant of SQL's SELECT is the .select() method. This method takes multiple arguments - one for each column you want to select. These arguments can either be the column name as a string (one for each column) or a column object (using the df.colName syntax). \n",
        "\n",
        "When you pass a column object, you can perform operations like addition or subtraction on the column to change the data contained in it, much like inside .withColumn().\n",
        "\n",
        "The difference between .select() and .withColumn() methods is that .select() returns only the columns you specify, while .withColumn() returns all the columns of the DataFrame in addition to the one you defined. \n",
        "\n",
        "It's often a good idea to drop columns you don't need at the beginning of an operation so that you're not dragging around extra data as you're wrangling. In this case, you would use .select() and not .withColumn().\n",
        "\n",
        "For example, the following two expressions will produce the same output:"
      ]
    },
    {
      "cell_type": "code",
      "metadata": {
        "id": "JI2t7gDxVavi",
        "colab_type": "code",
        "colab": {
          "base_uri": "https://localhost:8080/",
          "height": 385
        },
        "outputId": "309bd3d8-372a-4961-c977-21e626de2ab7"
      },
      "source": [
        "flights.select(\"origin\",\"dest\",\"carrier\").show(5)\n",
        "flights.select(flights.origin, flights.dest, flights.carrier).show(5)"
      ],
      "execution_count": 15,
      "outputs": [
        {
          "output_type": "stream",
          "text": [
            "+------+----+-------+\n",
            "|origin|dest|carrier|\n",
            "+------+----+-------+\n",
            "|   SEA| LAX|     VX|\n",
            "|   SEA| HNL|     AS|\n",
            "|   SEA| SFO|     VX|\n",
            "|   PDX| SJC|     WN|\n",
            "|   SEA| BUR|     AS|\n",
            "+------+----+-------+\n",
            "only showing top 5 rows\n",
            "\n",
            "+------+----+-------+\n",
            "|origin|dest|carrier|\n",
            "+------+----+-------+\n",
            "|   SEA| LAX|     VX|\n",
            "|   SEA| HNL|     AS|\n",
            "|   SEA| SFO|     VX|\n",
            "|   PDX| SJC|     WN|\n",
            "|   SEA| BUR|     AS|\n",
            "+------+----+-------+\n",
            "only showing top 5 rows\n",
            "\n"
          ],
          "name": "stdout"
        }
      ]
    },
    {
      "cell_type": "markdown",
      "metadata": {
        "id": "QlCJPegl78Xa",
        "colab_type": "text"
      },
      "source": [
        "You can perform any column operation and the .select() method will return the transformed column. For example:"
      ]
    },
    {
      "cell_type": "code",
      "metadata": {
        "id": "K3Z_RRA_7e5g",
        "colab_type": "code",
        "colab": {
          "base_uri": "https://localhost:8080/",
          "height": 452
        },
        "outputId": "dcda0325-cc58-431f-91a9-b01d374166ff"
      },
      "source": [
        "duration_hrs = flights.select(flights.air_time/60)\n",
        "duration_hrs.show()"
      ],
      "execution_count": 16,
      "outputs": [
        {
          "output_type": "stream",
          "text": [
            "+------------------+\n",
            "|   (air_time / 60)|\n",
            "+------------------+\n",
            "|               2.2|\n",
            "|               6.0|\n",
            "|              1.85|\n",
            "|1.3833333333333333|\n",
            "|2.1166666666666667|\n",
            "|2.0166666666666666|\n",
            "|               1.5|\n",
            "|1.6333333333333333|\n",
            "|              2.25|\n",
            "|               3.3|\n",
            "|2.1666666666666665|\n",
            "| 2.566666666666667|\n",
            "|2.1166666666666667|\n",
            "|              3.05|\n",
            "|              2.15|\n",
            "|               1.5|\n",
            "|1.2666666666666666|\n",
            "|               3.6|\n",
            "| 4.833333333333333|\n",
            "|              1.85|\n",
            "+------------------+\n",
            "only showing top 20 rows\n",
            "\n"
          ],
          "name": "stdout"
        }
      ]
    },
    {
      "cell_type": "markdown",
      "metadata": {
        "id": "YUBRXWzC8N-n",
        "colab_type": "text"
      },
      "source": [
        "You can also use the .alias() method to rename a column you're selecting. So if you wanted to .select() the column duration_hrs (which isn't in your DataFrame) you could do"
      ]
    },
    {
      "cell_type": "code",
      "metadata": {
        "id": "oU533Afo8dAQ",
        "colab_type": "code",
        "colab": {
          "base_uri": "https://localhost:8080/",
          "height": 385
        },
        "outputId": "00d8d0c7-a829-4e7d-cb05-af82375d8aee"
      },
      "source": [
        "duration_hrs = flights.select((flights.air_time/60).alias(\"duration_hrs\"))\n",
        "duration_hrs2 = flights.selectExpr(\"air_time/60 as duration_hrs\")\n",
        "duration_hrs.show(5)\n",
        "duration_hrs2.show(5)"
      ],
      "execution_count": 17,
      "outputs": [
        {
          "output_type": "stream",
          "text": [
            "+------------------+\n",
            "|      duration_hrs|\n",
            "+------------------+\n",
            "|               2.2|\n",
            "|               6.0|\n",
            "|              1.85|\n",
            "|1.3833333333333333|\n",
            "|2.1166666666666667|\n",
            "+------------------+\n",
            "only showing top 5 rows\n",
            "\n",
            "+------------------+\n",
            "|      duration_hrs|\n",
            "+------------------+\n",
            "|               2.2|\n",
            "|               6.0|\n",
            "|              1.85|\n",
            "|1.3833333333333333|\n",
            "|2.1166666666666667|\n",
            "+------------------+\n",
            "only showing top 5 rows\n",
            "\n"
          ],
          "name": "stdout"
        }
      ]
    },
    {
      "cell_type": "code",
      "metadata": {
        "id": "XshKzpbV9s3i",
        "colab_type": "code",
        "colab": {
          "base_uri": "https://localhost:8080/",
          "height": 385
        },
        "outputId": "3002e5d0-9be5-497a-a630-25cbad598a9a"
      },
      "source": [
        "# Define avg_speed\n",
        "avg_speed = (flights.distance/(flights.air_time/60)).alias(\"avg_speed\")\n",
        "speed1 = flights.select(\"origin\", \"dest\", \"tailnum\", avg_speed)\n",
        "speed1.show(5)\n",
        "\n",
        "# Equivalence avg_speed\n",
        "speed2 = flights.selectExpr(\"origin\", \"dest\", \"tailnum\", \"distance/(air_time/60) as avg_speed\")\n",
        "speed2.show(5)"
      ],
      "execution_count": 18,
      "outputs": [
        {
          "output_type": "stream",
          "text": [
            "+------+----+-------+------------------+\n",
            "|origin|dest|tailnum|         avg_speed|\n",
            "+------+----+-------+------------------+\n",
            "|   SEA| LAX| N846VA| 433.6363636363636|\n",
            "|   SEA| HNL| N559AS| 446.1666666666667|\n",
            "|   SEA| SFO| N847VA|367.02702702702703|\n",
            "|   PDX| SJC| N360SW| 411.3253012048193|\n",
            "|   SEA| BUR| N612AS| 442.6771653543307|\n",
            "+------+----+-------+------------------+\n",
            "only showing top 5 rows\n",
            "\n",
            "+------+----+-------+------------------+\n",
            "|origin|dest|tailnum|         avg_speed|\n",
            "+------+----+-------+------------------+\n",
            "|   SEA| LAX| N846VA| 433.6363636363636|\n",
            "|   SEA| HNL| N559AS| 446.1666666666667|\n",
            "|   SEA| SFO| N847VA|367.02702702702703|\n",
            "|   PDX| SJC| N360SW| 411.3253012048193|\n",
            "|   SEA| BUR| N612AS| 442.6771653543307|\n",
            "+------+----+-------+------------------+\n",
            "only showing top 5 rows\n",
            "\n"
          ],
          "name": "stdout"
        }
      ]
    },
    {
      "cell_type": "markdown",
      "metadata": {
        "id": "Pb1k22fgBWFT",
        "colab_type": "text"
      },
      "source": [
        "### Data type conversion"
      ]
    },
    {
      "cell_type": "code",
      "metadata": {
        "id": "OTZQa-tkBd1F",
        "colab_type": "code",
        "colab": {
          "base_uri": "https://localhost:8080/",
          "height": 334
        },
        "outputId": "5610e941-e868-44e9-eeec-b712340316c2"
      },
      "source": [
        "from pyspark.sql.types import StructField,IntegerType, StructType,StringType, DoubleType\n",
        "\n",
        "flights = flights.withColumn(\"distance\", flights[\"distance\"].cast(IntegerType()))\n",
        "flights = flights.withColumn(\"air_time\", flights[\"air_time\"].cast(IntegerType()))\n",
        "flights = flights.withColumn(\"dep_delay\", flights[\"air_time\"].cast(DoubleType()))\n",
        "flights.printSchema()"
      ],
      "execution_count": 19,
      "outputs": [
        {
          "output_type": "stream",
          "text": [
            "root\n",
            " |-- year: string (nullable = true)\n",
            " |-- month: string (nullable = true)\n",
            " |-- day: string (nullable = true)\n",
            " |-- dep_time: string (nullable = true)\n",
            " |-- dep_delay: double (nullable = true)\n",
            " |-- arr_time: string (nullable = true)\n",
            " |-- arr_delay: string (nullable = true)\n",
            " |-- carrier: string (nullable = true)\n",
            " |-- tailnum: string (nullable = true)\n",
            " |-- flight: string (nullable = true)\n",
            " |-- origin: string (nullable = true)\n",
            " |-- dest: string (nullable = true)\n",
            " |-- air_time: integer (nullable = true)\n",
            " |-- distance: integer (nullable = true)\n",
            " |-- hour: string (nullable = true)\n",
            " |-- minute: string (nullable = true)\n",
            " |-- duration_hrs: double (nullable = true)\n",
            "\n"
          ],
          "name": "stdout"
        }
      ]
    },
    {
      "cell_type": "code",
      "metadata": {
        "id": "DbGavr0RCYY5",
        "colab_type": "code",
        "colab": {
          "base_uri": "https://localhost:8080/",
          "height": 318
        },
        "outputId": "97815ba5-c567-4354-aa9a-4fd6ede20355"
      },
      "source": [
        "from pyspark.sql.types import StructField,IntegerType, StructType,StringType, DoubleType\n",
        "schemaTypes=[StructField('year',IntegerType(),True),\n",
        "       StructField('month',IntegerType(),True),\n",
        "       StructField('day',IntegerType(),True),\n",
        "       StructField('dep_time',StringType(),True),\n",
        "       StructField('dep_delay',StringType(),True),\n",
        "       StructField('arr_time',StringType(),True),\n",
        "       StructField('carrier',StringType(),True),\n",
        "       StructField('tailnum',StringType(),True),\n",
        "       StructField('flight',StringType(),True),\n",
        "       StructField('origin',StringType(),True),\n",
        "       StructField('dest',StringType(),True),\n",
        "       StructField('air_time',IntegerType(),True),\n",
        "       StructField('distance',IntegerType(),True),\n",
        "       StructField('hour',StringType(),True),\n",
        "       StructField('minute',StringType(),True),\n",
        "       StructField('duration_hrs',DoubleType(),True)\n",
        "       ]\n",
        "schema = StructType(fields=schemaTypes)\n",
        "data = spark.read.csv('/content/sample_data/flights_small.csv', schema = schema)\n",
        "\n",
        "data.printSchema()"
      ],
      "execution_count": 20,
      "outputs": [
        {
          "output_type": "stream",
          "text": [
            "root\n",
            " |-- year: integer (nullable = true)\n",
            " |-- month: integer (nullable = true)\n",
            " |-- day: integer (nullable = true)\n",
            " |-- dep_time: string (nullable = true)\n",
            " |-- dep_delay: string (nullable = true)\n",
            " |-- arr_time: string (nullable = true)\n",
            " |-- carrier: string (nullable = true)\n",
            " |-- tailnum: string (nullable = true)\n",
            " |-- flight: string (nullable = true)\n",
            " |-- origin: string (nullable = true)\n",
            " |-- dest: string (nullable = true)\n",
            " |-- air_time: integer (nullable = true)\n",
            " |-- distance: integer (nullable = true)\n",
            " |-- hour: string (nullable = true)\n",
            " |-- minute: string (nullable = true)\n",
            " |-- duration_hrs: double (nullable = true)\n",
            "\n"
          ],
          "name": "stdout"
        }
      ]
    },
    {
      "cell_type": "markdown",
      "metadata": {
        "id": "XP50zoMr-zPA",
        "colab_type": "text"
      },
      "source": [
        "### Aggregating"
      ]
    },
    {
      "cell_type": "markdown",
      "metadata": {
        "id": "lFe_KnJb-9bn",
        "colab_type": "text"
      },
      "source": [
        "All of the common aggregation methods, like .min(), .max(), and .count() are GroupedData methods. These are created by calling the .groupBy() DataFrame method."
      ]
    },
    {
      "cell_type": "code",
      "metadata": {
        "id": "UwxgaNqk-yhD",
        "colab_type": "code",
        "colab": {
          "base_uri": "https://localhost:8080/",
          "height": 217
        },
        "outputId": "59f5c5be-4e49-494a-e8eb-4cfe201d38ff"
      },
      "source": [
        "# Find the shortest flight from PDX in terms of distance\n",
        "flights.filter(flights.origin == \"PDX\").groupBy().min(\"distance\").show()\n",
        "\n",
        "# Find the longest flight from SEA in terms of air time\n",
        "flights.filter(flights.origin == \"SEA\").groupBy().max(\"air_time\").show()"
      ],
      "execution_count": 21,
      "outputs": [
        {
          "output_type": "stream",
          "text": [
            "+-------------+\n",
            "|min(distance)|\n",
            "+-------------+\n",
            "|          106|\n",
            "+-------------+\n",
            "\n",
            "+-------------+\n",
            "|max(air_time)|\n",
            "+-------------+\n",
            "|          409|\n",
            "+-------------+\n",
            "\n"
          ],
          "name": "stdout"
        }
      ]
    },
    {
      "cell_type": "code",
      "metadata": {
        "id": "54olDI1n_zlH",
        "colab_type": "code",
        "colab": {
          "base_uri": "https://localhost:8080/",
          "height": 217
        },
        "outputId": "6bfeb72a-af74-45b9-dffc-9220190b7d14"
      },
      "source": [
        "# Average duration of Delta flights\n",
        "flights.filter(flights.carrier == 'DL').filter(flights.origin == 'SEA').groupBy().avg('air_time').show()\n",
        "\n",
        "# Total hours in the air\n",
        "flights.withColumn(\"duration_hrs\", flights.air_time/60).groupBy().sum(\"duration_hrs\").show()"
      ],
      "execution_count": 22,
      "outputs": [
        {
          "output_type": "stream",
          "text": [
            "+------------------+\n",
            "|     avg(air_time)|\n",
            "+------------------+\n",
            "|188.20689655172413|\n",
            "+------------------+\n",
            "\n",
            "+-----------------+\n",
            "|sum(duration_hrs)|\n",
            "+-----------------+\n",
            "|25289.60000000004|\n",
            "+-----------------+\n",
            "\n"
          ],
          "name": "stdout"
        }
      ]
    },
    {
      "cell_type": "code",
      "metadata": {
        "id": "9E8CNxmDLbO3",
        "colab_type": "code",
        "colab": {
          "base_uri": "https://localhost:8080/",
          "height": 569
        },
        "outputId": "28c25b3a-5560-461a-883f-0b7b0adfe702"
      },
      "source": [
        "# Group by tailnum\n",
        "by_plane = flights.groupBy(\"tailnum\")\n",
        "\n",
        "# Number of flights each plane made\n",
        "by_plane.count().show()\n",
        "\n",
        "# Group by origin\n",
        "by_origin = flights.groupBy(\"origin\")\n",
        "\n",
        "# Average duration of flights from PDX and SEA\n",
        "by_origin.avg(\"air_time\").show()"
      ],
      "execution_count": 23,
      "outputs": [
        {
          "output_type": "stream",
          "text": [
            "+-------+-----+\n",
            "|tailnum|count|\n",
            "+-------+-----+\n",
            "| N442AS|   38|\n",
            "| N102UW|    2|\n",
            "| N36472|    4|\n",
            "| N38451|    4|\n",
            "| N73283|    4|\n",
            "| N513UA|    2|\n",
            "| N954WN|    5|\n",
            "| N388DA|    3|\n",
            "| N567AA|    1|\n",
            "| N516UA|    2|\n",
            "| N927DN|    1|\n",
            "| N8322X|    1|\n",
            "| N466SW|    1|\n",
            "|  N6700|    1|\n",
            "| N607AS|   45|\n",
            "| N622SW|    4|\n",
            "| N584AS|   31|\n",
            "| N914WN|    4|\n",
            "| N654AW|    2|\n",
            "| N336NW|    1|\n",
            "+-------+-----+\n",
            "only showing top 20 rows\n",
            "\n",
            "+------+------------------+\n",
            "|origin|     avg(air_time)|\n",
            "+------+------------------+\n",
            "|   SEA| 160.4361496051259|\n",
            "|   PDX|137.11543248288737|\n",
            "+------+------------------+\n",
            "\n"
          ],
          "name": "stdout"
        }
      ]
    },
    {
      "cell_type": "markdown",
      "metadata": {
        "id": "T43xeOR2MUQq",
        "colab_type": "text"
      },
      "source": [
        "In addition to the GroupedData methods you've already seen, there is also the .agg() method. This method lets you pass an aggregate column expression that uses any of the aggregate functions from the pyspark.sql.functions submodule.\n",
        "\n",
        "This submodule contains many useful functions for computing things like standard deviations. All the aggregation functions in this submodule take the name of a column in a GroupedData table."
      ]
    },
    {
      "cell_type": "code",
      "metadata": {
        "id": "SweU8kBHMbme",
        "colab_type": "code",
        "colab": {
          "base_uri": "https://localhost:8080/",
          "height": 886
        },
        "outputId": "ecbc2fc2-a3c1-458a-bca9-f86c556bf703"
      },
      "source": [
        "# Import pyspark.sql.functions as F\n",
        "import pyspark.sql.functions as F\n",
        "\n",
        "# Group by month and dest\n",
        "by_month_dest = flights.groupBy(\"month\",\"dest\")\n",
        "\n",
        "# Average departure delay by month and destination\n",
        "by_month_dest.avg(\"dep_delay\").show()\n",
        "\n",
        "# Standard deviation of departure delay\n",
        "by_month_dest.agg(F.stddev(\"dep_delay\")).show()"
      ],
      "execution_count": 24,
      "outputs": [
        {
          "output_type": "stream",
          "text": [
            "+-----+----+------------------+\n",
            "|month|dest|    avg(dep_delay)|\n",
            "+-----+----+------------------+\n",
            "|   11| TUS|140.33333333333334|\n",
            "|   11| ANC|192.91176470588235|\n",
            "|    1| BUR|             114.0|\n",
            "|    1| PDX| 33.84615384615385|\n",
            "|    6| SBA|            115.25|\n",
            "|    5| LAX|122.89473684210526|\n",
            "|   10| DTW|             217.4|\n",
            "|    6| SIT|             123.0|\n",
            "|   10| DFW| 193.8181818181818|\n",
            "|    3| FAI|             198.8|\n",
            "|   10| SEA|31.733333333333334|\n",
            "|    2| TUS|132.66666666666666|\n",
            "|   12| OGG| 340.8181818181818|\n",
            "|    9| DFW|195.16666666666666|\n",
            "|    5| EWR| 285.0833333333333|\n",
            "|    3| RDM|              29.2|\n",
            "|    8| DCA|             278.1|\n",
            "|    7| ATL|247.54054054054055|\n",
            "|    4| JFK|276.61538461538464|\n",
            "|   10| SNA|             131.4|\n",
            "+-----+----+------------------+\n",
            "only showing top 20 rows\n",
            "\n",
            "+-----+----+----------------------+\n",
            "|month|dest|stddev_samp(dep_delay)|\n",
            "+-----+----+----------------------+\n",
            "|   11| TUS|    1.1547005383792515|\n",
            "|   11| ANC|    17.462284287830716|\n",
            "|    1| BUR|     7.833799911449845|\n",
            "|    1| PDX|     3.131723536280352|\n",
            "|    6| SBA|                  10.5|\n",
            "|    5| LAX|    7.6916906635120155|\n",
            "|   10| DTW|     8.264381404557751|\n",
            "|    6| SIT|                   NaN|\n",
            "|   10| DFW|    10.892814562403466|\n",
            "|    3| FAI|     6.610597552415351|\n",
            "|   10| SEA|    2.9146591730832094|\n",
            "|    2| TUS|     7.234178138070235|\n",
            "|   12| OGG|    14.274580076612983|\n",
            "|    9| DFW|     8.391635134458904|\n",
            "|    5| EWR|    12.609219811012272|\n",
            "|    3| RDM|    1.3038404810405297|\n",
            "|    8| DCA|    19.985828312415105|\n",
            "|    7| ATL|     9.923581887477804|\n",
            "|    4| JFK|     6.007473977450399|\n",
            "|   10| SNA|    10.342699288456021|\n",
            "+-----+----+----------------------+\n",
            "only showing top 20 rows\n",
            "\n"
          ],
          "name": "stdout"
        }
      ]
    },
    {
      "cell_type": "markdown",
      "metadata": {
        "id": "HAVtvr7ANNGP",
        "colab_type": "text"
      },
      "source": [
        "### Renaming\n",
        "\n"
      ]
    },
    {
      "cell_type": "code",
      "metadata": {
        "id": "YKePvK_KNSUP",
        "colab_type": "code",
        "colab": {
          "base_uri": "https://localhost:8080/",
          "height": 201
        },
        "outputId": "e30dd2c9-99e8-4777-ed2b-d3d904c1e15a"
      },
      "source": [
        "# Rename the faa column\n",
        "airports = airports.withColumnRenamed(\"faa\", \"dest\")\n",
        "airports.show(5)"
      ],
      "execution_count": 25,
      "outputs": [
        {
          "output_type": "stream",
          "text": [
            "+----+--------------------+----------+-----------+----+---+---+\n",
            "|dest|                name|       lat|        lon| alt| tz|dst|\n",
            "+----+--------------------+----------+-----------+----+---+---+\n",
            "| 04G|   Lansdowne Airport|41.1304722|-80.6195833|1044| -5|  A|\n",
            "| 06A|Moton Field Munic...|32.4605722|-85.6800278| 264| -5|  A|\n",
            "| 06C| Schaumburg Regional|41.9893408|-88.1012428| 801| -6|  A|\n",
            "| 06N|     Randall Airport| 41.431912|-74.3915611| 523| -5|  A|\n",
            "| 09J|Jekyll Island Air...|31.0744722|-81.4277778|  11| -4|  A|\n",
            "+----+--------------------+----------+-----------+----+---+---+\n",
            "only showing top 5 rows\n",
            "\n"
          ],
          "name": "stdout"
        }
      ]
    },
    {
      "cell_type": "markdown",
      "metadata": {
        "id": "aMIuP65HM_ta",
        "colab_type": "text"
      },
      "source": [
        "### Join"
      ]
    },
    {
      "cell_type": "code",
      "metadata": {
        "id": "uyqX3aJpM_Vr",
        "colab_type": "code",
        "colab": {
          "base_uri": "https://localhost:8080/",
          "height": 237
        },
        "outputId": "cee34fb6-11fd-4b0e-bda7-0cc4c1b19b86"
      },
      "source": [
        "# Join the DataFrames\n",
        "flights_with_airports = flights.join(airports,\"dest\",how=\"leftouter\")\n",
        "\n",
        "# Examine the new DataFrame\n",
        "print(flights_with_airports.show(5))"
      ],
      "execution_count": 26,
      "outputs": [
        {
          "output_type": "stream",
          "text": [
            "+----+----+-----+---+--------+---------+--------+---------+-------+-------+------+------+--------+--------+----+------+------------------+--------------------+---------+-----------+---+---+---+\n",
            "|dest|year|month|day|dep_time|dep_delay|arr_time|arr_delay|carrier|tailnum|flight|origin|air_time|distance|hour|minute|      duration_hrs|                name|      lat|        lon|alt| tz|dst|\n",
            "+----+----+-----+---+--------+---------+--------+---------+-------+-------+------+------+--------+--------+----+------+------------------+--------------------+---------+-----------+---+---+---+\n",
            "| LAX|2014|   12|  8|   658.0|    132.0|   935.0|     -5.0|     VX| N846VA|  1780|   SEA|     132|     954| 6.0|  58.0|               2.2|    Los Angeles Intl|33.942536|-118.408075|126| -8|  A|\n",
            "| HNL|2014|    1| 22|  1040.0|    360.0|  1505.0|      5.0|     AS| N559AS|   851|   SEA|     360|    2677|10.0|  40.0|               6.0|       Honolulu Intl|21.318681|-157.922428| 13|-10|  N|\n",
            "| SFO|2014|    3|  9|  1443.0|    111.0|  1652.0|      2.0|     VX| N847VA|   755|   SEA|     111|     679|14.0|  43.0|              1.85|  San Francisco Intl|37.618972|-122.374889| 13| -8|  A|\n",
            "| SJC|2014|    4|  9|  1705.0|     83.0|  1839.0|     34.0|     WN| N360SW|   344|   PDX|      83|     569|17.0|   5.0|1.3833333333333333|Norman Y Mineta S...|  37.3626|-121.929022| 62| -8|  A|\n",
            "| BUR|2014|    3|  9|   754.0|    127.0|  1015.0|      1.0|     AS| N612AS|   522|   SEA|     127|     937| 7.0|  54.0|2.1166666666666667|            Bob Hope|34.200667|-118.358667|778| -8|  A|\n",
            "+----+----+-----+---+--------+---------+--------+---------+-------+-------+------+------+--------+--------+----+------+------------------+--------------------+---------+-----------+---+---+---+\n",
            "only showing top 5 rows\n",
            "\n",
            "None\n"
          ],
          "name": "stdout"
        }
      ]
    }
  ]
}