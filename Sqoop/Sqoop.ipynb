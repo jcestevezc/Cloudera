{
 "cells": [
  {
   "cell_type": "markdown",
   "metadata": {},
   "source": [
    "### Connecting to MySQL"
   ]
  },
  {
   "cell_type": "code",
   "execution_count": null,
   "metadata": {
    "collapsed": false
   },
   "outputs": [],
   "source": [
    "! mysql -u root --password=cloudera"
   ]
  },
  {
   "cell_type": "code",
   "execution_count": null,
   "metadata": {
    "collapsed": true
   },
   "outputs": [],
   "source": [
    "! show databases;"
   ]
  },
  {
   "cell_type": "code",
   "execution_count": null,
   "metadata": {
    "collapsed": false
   },
   "outputs": [],
   "source": [
    "! use retail_db"
   ]
  },
  {
   "cell_type": "code",
   "execution_count": null,
   "metadata": {
    "collapsed": true
   },
   "outputs": [],
   "source": [
    "! select * from categories"
   ]
  },
  {
   "cell_type": "code",
   "execution_count": 8,
   "metadata": {
    "collapsed": false
   },
   "outputs": [
    {
     "name": "stdout",
     "output_type": "stream",
     "text": [
      "Warning: /usr/lib/sqoop/../accumulo does not exist! Accumulo imports will fail.\n",
      "Please set $ACCUMULO_HOME to the root of your Accumulo installation.\n",
      "20/01/24 14:55:09 INFO sqoop.Sqoop: Running Sqoop version: 1.4.5-cdh5.4.2\n",
      "Sqoop 1.4.5-cdh5.4.2\n",
      "git commit id \n",
      "Compiled by jenkins on Tue May 19 16:56:05 PDT 2015\n"
     ]
    }
   ],
   "source": [
    "! sqoop version"
   ]
  },
  {
   "cell_type": "markdown",
   "metadata": {},
   "source": [
    "### Importando tablas completas a Sqoop"
   ]
  },
  {
   "cell_type": "code",
   "execution_count": 5,
   "metadata": {
    "collapsed": false
   },
   "outputs": [
    {
     "name": "stdout",
     "output_type": "stream",
     "text": [
      "Warning: /usr/lib/sqoop/../accumulo does not exist! Accumulo imports will fail.\n",
      "Please set $ACCUMULO_HOME to the root of your Accumulo installation.\n",
      "20/01/24 14:49:26 INFO sqoop.Sqoop: Running Sqoop version: 1.4.5-cdh5.4.2\n",
      "20/01/24 14:49:26 WARN tool.BaseSqoopTool: Setting your password on the command-line is insecure. Consider using -P instead.\n",
      "20/01/24 14:49:26 INFO manager.MySQLManager: Preparing to use a MySQL streaming resultset.\n",
      "20/01/24 14:49:26 INFO tool.CodeGenTool: Beginning code generation\n",
      "20/01/24 14:49:26 INFO manager.SqlManager: Executing SQL statement: SELECT t.* FROM `categories` AS t LIMIT 1\n",
      "20/01/24 14:49:26 INFO manager.SqlManager: Executing SQL statement: SELECT t.* FROM `categories` AS t LIMIT 1\n",
      "20/01/24 14:49:26 INFO orm.CompilationManager: HADOOP_MAPRED_HOME is /usr/lib/hadoop-mapreduce\n",
      "Note: /tmp/sqoop-cloudera/compile/df1ebac30e1642b4392e04a5d1af0414/categories.java uses or overrides a deprecated API.\n",
      "Note: Recompile with -Xlint:deprecation for details.\n",
      "20/01/24 14:49:29 INFO orm.CompilationManager: Writing jar file: /tmp/sqoop-cloudera/compile/df1ebac30e1642b4392e04a5d1af0414/categories.jar\n",
      "20/01/24 14:49:29 WARN manager.MySQLManager: It looks like you are importing from mysql.\n",
      "20/01/24 14:49:29 WARN manager.MySQLManager: This transfer can be faster! Use the --direct\n",
      "20/01/24 14:49:29 WARN manager.MySQLManager: option to exercise a MySQL-specific fast path.\n",
      "20/01/24 14:49:29 INFO manager.MySQLManager: Setting zero DATETIME behavior to convertToNull (mysql)\n",
      "20/01/24 14:49:29 INFO mapreduce.ImportJobBase: Beginning import of categories\n",
      "20/01/24 14:49:29 INFO Configuration.deprecation: mapred.job.tracker is deprecated. Instead, use mapreduce.jobtracker.address\n",
      "20/01/24 14:49:29 INFO Configuration.deprecation: mapred.jar is deprecated. Instead, use mapreduce.job.jar\n",
      "20/01/24 14:49:30 INFO Configuration.deprecation: mapred.map.tasks is deprecated. Instead, use mapreduce.job.maps\n",
      "20/01/24 14:49:30 INFO client.RMProxy: Connecting to ResourceManager at /0.0.0.0:8032\n",
      "20/01/24 14:49:39 INFO db.DBInputFormat: Using read commited transaction isolation\n",
      "20/01/24 14:49:39 INFO db.DataDrivenDBInputFormat: BoundingValsQuery: SELECT MIN(`category_id`), MAX(`category_id`) FROM `categories`\n",
      "20/01/24 14:49:39 INFO mapreduce.JobSubmitter: number of splits:4\n",
      "20/01/24 14:49:40 INFO mapreduce.JobSubmitter: Submitting tokens for job: job_1579369419243_0005\n",
      "20/01/24 14:49:40 INFO impl.YarnClientImpl: Submitted application application_1579369419243_0005\n",
      "20/01/24 14:49:40 INFO mapreduce.Job: The url to track the job: http://quickstart.cloudera:8088/proxy/application_1579369419243_0005/\n",
      "20/01/24 14:49:40 INFO mapreduce.Job: Running job: job_1579369419243_0005\n",
      "20/01/24 14:49:52 INFO mapreduce.Job: Job job_1579369419243_0005 running in uber mode : false\n",
      "20/01/24 14:49:52 INFO mapreduce.Job:  map 0% reduce 0%\n",
      "20/01/24 14:50:17 INFO mapreduce.Job:  map 75% reduce 0%\n",
      "20/01/24 14:50:18 INFO mapreduce.Job:  map 100% reduce 0%\n",
      "20/01/24 14:50:19 INFO mapreduce.Job: Job job_1579369419243_0005 completed successfully\n",
      "20/01/24 14:50:19 INFO mapreduce.Job: Counters: 30\n",
      "\tFile System Counters\n",
      "\t\tFILE: Number of bytes read=0\n",
      "\t\tFILE: Number of bytes written=540476\n",
      "\t\tFILE: Number of read operations=0\n",
      "\t\tFILE: Number of large read operations=0\n",
      "\t\tFILE: Number of write operations=0\n",
      "\t\tHDFS: Number of bytes read=472\n",
      "\t\tHDFS: Number of bytes written=1029\n",
      "\t\tHDFS: Number of read operations=16\n",
      "\t\tHDFS: Number of large read operations=0\n",
      "\t\tHDFS: Number of write operations=8\n",
      "\tJob Counters \n",
      "\t\tLaunched map tasks=4\n",
      "\t\tOther local map tasks=4\n",
      "\t\tTotal time spent by all maps in occupied slots (ms)=85777\n",
      "\t\tTotal time spent by all reduces in occupied slots (ms)=0\n",
      "\t\tTotal time spent by all map tasks (ms)=85777\n",
      "\t\tTotal vcore-seconds taken by all map tasks=85777\n",
      "\t\tTotal megabyte-seconds taken by all map tasks=87835648\n",
      "\tMap-Reduce Framework\n",
      "\t\tMap input records=58\n",
      "\t\tMap output records=58\n",
      "\t\tInput split bytes=472\n",
      "\t\tSpilled Records=0\n",
      "\t\tFailed Shuffles=0\n",
      "\t\tMerged Map outputs=0\n",
      "\t\tGC time elapsed (ms)=876\n",
      "\t\tCPU time spent (ms)=4830\n",
      "\t\tPhysical memory (bytes) snapshot=633434112\n",
      "\t\tVirtual memory (bytes) snapshot=6235348992\n",
      "\t\tTotal committed heap usage (bytes)=557318144\n",
      "\tFile Input Format Counters \n",
      "\t\tBytes Read=0\n",
      "\tFile Output Format Counters \n",
      "\t\tBytes Written=1029\n",
      "20/01/24 14:50:19 INFO mapreduce.ImportJobBase: Transferred 1.0049 KB in 49.2899 seconds (20.8765 bytes/sec)\n",
      "20/01/24 14:50:19 INFO mapreduce.ImportJobBase: Retrieved 58 records.\n"
     ]
    }
   ],
   "source": [
    "!sqoop import --connect jdbc:mysql://localhost/retail_db --username root --password cloudera --table categories --target-dir sqoop"
   ]
  },
  {
   "cell_type": "code",
   "execution_count": 6,
   "metadata": {
    "collapsed": false
   },
   "outputs": [
    {
     "name": "stdout",
     "output_type": "stream",
     "text": [
      "Found 5 items\r\n",
      "-rw-r--r--   1 cloudera cloudera          0 2020-01-24 14:50 sqoop/_SUCCESS\r\n",
      "-rw-r--r--   1 cloudera cloudera        271 2020-01-24 14:50 sqoop/part-m-00000\r\n",
      "-rw-r--r--   1 cloudera cloudera        263 2020-01-24 14:50 sqoop/part-m-00001\r\n",
      "-rw-r--r--   1 cloudera cloudera        266 2020-01-24 14:50 sqoop/part-m-00002\r\n",
      "-rw-r--r--   1 cloudera cloudera        229 2020-01-24 14:50 sqoop/part-m-00003\r\n"
     ]
    }
   ],
   "source": [
    "! hdfs dfs -ls sqoop"
   ]
  },
  {
   "cell_type": "markdown",
   "metadata": {},
   "source": [
    "Validando el contenido del archivo"
   ]
  },
  {
   "cell_type": "code",
   "execution_count": 7,
   "metadata": {
    "collapsed": false
   },
   "outputs": [
    {
     "name": "stdout",
     "output_type": "stream",
     "text": [
      "1,2,Football\r\n",
      "2,2,Soccer\r\n",
      "3,2,Baseball & Softball\r\n",
      "4,2,Basketball\r\n",
      "5,2,Lacrosse\r\n",
      "6,2,Tennis & Racquet\r\n",
      "7,2,Hockey\r\n",
      "8,2,More Sports\r\n",
      "9,3,Cardio Equipment\r\n",
      "10,3,Strength Training\r\n",
      "11,3,Fitness Accessories\r\n",
      "12,3,Boxing & MMA\r\n",
      "13,3,Electronics\r\n",
      "14,3,Yoga & Pilates\r\n",
      "15,3,Training by Sport\r\n"
     ]
    }
   ],
   "source": [
    "! hdfs dfs -cat sqoop/part-m-00000"
   ]
  },
  {
   "cell_type": "markdown",
   "metadata": {},
   "source": [
    "#### Importando como parquet, con un hilo y con un borrado automatico del directorio del hdfs para cargar los nuevos datos"
   ]
  },
  {
   "cell_type": "code",
   "execution_count": 17,
   "metadata": {
    "collapsed": false
   },
   "outputs": [
    {
     "name": "stdout",
     "output_type": "stream",
     "text": [
      "Warning: /usr/lib/sqoop/../accumulo does not exist! Accumulo imports will fail.\n",
      "Please set $ACCUMULO_HOME to the root of your Accumulo installation.\n",
      "20/01/25 06:22:20 INFO sqoop.Sqoop: Running Sqoop version: 1.4.5-cdh5.4.2\n",
      "20/01/25 06:22:20 WARN tool.BaseSqoopTool: Setting your password on the command-line is insecure. Consider using -P instead.\n",
      "20/01/25 06:22:21 INFO manager.MySQLManager: Preparing to use a MySQL streaming resultset.\n",
      "20/01/25 06:22:21 INFO tool.CodeGenTool: Beginning code generation\n",
      "20/01/25 06:22:22 INFO manager.SqlManager: Executing SQL statement: SELECT t.* FROM `categories` AS t LIMIT 1\n",
      "20/01/25 06:22:22 INFO manager.SqlManager: Executing SQL statement: SELECT t.* FROM `categories` AS t LIMIT 1\n",
      "20/01/25 06:22:22 INFO orm.CompilationManager: HADOOP_MAPRED_HOME is /usr/lib/hadoop-mapreduce\n",
      "Note: /tmp/sqoop-cloudera/compile/be21254f6e6dae73497493edf1b0b55a/categories.java uses or overrides a deprecated API.\n",
      "Note: Recompile with -Xlint:deprecation for details.\n",
      "20/01/25 06:22:26 INFO orm.CompilationManager: Writing jar file: /tmp/sqoop-cloudera/compile/be21254f6e6dae73497493edf1b0b55a/categories.jar\n",
      "20/01/25 06:22:30 INFO tool.ImportTool: Destination directory sqoop deleted.\n",
      "20/01/25 06:22:30 WARN manager.MySQLManager: It looks like you are importing from mysql.\n",
      "20/01/25 06:22:30 WARN manager.MySQLManager: This transfer can be faster! Use the --direct\n",
      "20/01/25 06:22:30 WARN manager.MySQLManager: option to exercise a MySQL-specific fast path.\n",
      "20/01/25 06:22:30 INFO manager.MySQLManager: Setting zero DATETIME behavior to convertToNull (mysql)\n",
      "20/01/25 06:22:30 INFO mapreduce.ImportJobBase: Beginning import of categories\n",
      "20/01/25 06:22:30 INFO Configuration.deprecation: mapred.job.tracker is deprecated. Instead, use mapreduce.jobtracker.address\n",
      "20/01/25 06:22:30 INFO Configuration.deprecation: mapred.jar is deprecated. Instead, use mapreduce.job.jar\n",
      "20/01/25 06:22:31 INFO manager.SqlManager: Executing SQL statement: SELECT t.* FROM `categories` AS t LIMIT 1\n",
      "20/01/25 06:22:34 INFO Configuration.deprecation: mapred.map.tasks is deprecated. Instead, use mapreduce.job.maps\n",
      "20/01/25 06:22:35 INFO client.RMProxy: Connecting to ResourceManager at /0.0.0.0:8032\n",
      "20/01/25 06:22:44 INFO db.DBInputFormat: Using read commited transaction isolation\n",
      "20/01/25 06:22:44 INFO mapreduce.JobSubmitter: number of splits:1\n",
      "20/01/25 06:22:45 INFO mapreduce.JobSubmitter: Submitting tokens for job: job_1579369419243_0009\n",
      "20/01/25 06:22:46 INFO impl.YarnClientImpl: Submitted application application_1579369419243_0009\n",
      "20/01/25 06:22:46 INFO mapreduce.Job: The url to track the job: http://quickstart.cloudera:8088/proxy/application_1579369419243_0009/\n",
      "20/01/25 06:22:46 INFO mapreduce.Job: Running job: job_1579369419243_0009\n",
      "20/01/25 06:23:06 INFO mapreduce.Job: Job job_1579369419243_0009 running in uber mode : false\n",
      "20/01/25 06:23:06 INFO mapreduce.Job:  map 0% reduce 0%\n",
      "20/01/25 06:23:23 INFO mapreduce.Job:  map 100% reduce 0%\n",
      "20/01/25 06:23:25 INFO mapreduce.Job: Job job_1579369419243_0009 completed successfully\n",
      "20/01/25 06:23:26 INFO mapreduce.Job: Counters: 30\n",
      "\tFile System Counters\n",
      "\t\tFILE: Number of bytes read=0\n",
      "\t\tFILE: Number of bytes written=135992\n",
      "\t\tFILE: Number of read operations=0\n",
      "\t\tFILE: Number of large read operations=0\n",
      "\t\tFILE: Number of write operations=0\n",
      "\t\tHDFS: Number of bytes read=6122\n",
      "\t\tHDFS: Number of bytes written=3277\n",
      "\t\tHDFS: Number of read operations=50\n",
      "\t\tHDFS: Number of large read operations=0\n",
      "\t\tHDFS: Number of write operations=9\n",
      "\tJob Counters \n",
      "\t\tLaunched map tasks=1\n",
      "\t\tOther local map tasks=1\n",
      "\t\tTotal time spent by all maps in occupied slots (ms)=13751\n",
      "\t\tTotal time spent by all reduces in occupied slots (ms)=0\n",
      "\t\tTotal time spent by all map tasks (ms)=13751\n",
      "\t\tTotal vcore-seconds taken by all map tasks=13751\n",
      "\t\tTotal megabyte-seconds taken by all map tasks=14081024\n",
      "\tMap-Reduce Framework\n",
      "\t\tMap input records=58\n",
      "\t\tMap output records=58\n",
      "\t\tInput split bytes=87\n",
      "\t\tSpilled Records=0\n",
      "\t\tFailed Shuffles=0\n",
      "\t\tMerged Map outputs=0\n",
      "\t\tGC time elapsed (ms)=125\n",
      "\t\tCPU time spent (ms)=4010\n",
      "\t\tPhysical memory (bytes) snapshot=235466752\n",
      "\t\tVirtual memory (bytes) snapshot=1567723520\n",
      "\t\tTotal committed heap usage (bytes)=147849216\n",
      "\tFile Input Format Counters \n",
      "\t\tBytes Read=0\n",
      "\tFile Output Format Counters \n",
      "\t\tBytes Written=0\n",
      "20/01/25 06:23:26 INFO mapreduce.ImportJobBase: Transferred 3.2002 KB in 51.7551 seconds (63.3175 bytes/sec)\n",
      "20/01/25 06:23:26 INFO mapreduce.ImportJobBase: Retrieved 58 records.\n"
     ]
    }
   ],
   "source": [
    "!sqoop import --connect jdbc:mysql://localhost/retail_db --username root --password cloudera --table categories --target-dir sqoop --as-parquetfile --delete-target-dir -m 1 "
   ]
  },
  {
   "cell_type": "markdown",
   "metadata": {},
   "source": [
    "### Importando tablas con filtros a Sqoop"
   ]
  },
  {
   "cell_type": "code",
   "execution_count": 9,
   "metadata": {
    "collapsed": false
   },
   "outputs": [
    {
     "name": "stdout",
     "output_type": "stream",
     "text": [
      "Warning: /usr/lib/sqoop/../accumulo does not exist! Accumulo imports will fail.\n",
      "Please set $ACCUMULO_HOME to the root of your Accumulo installation.\n",
      "20/01/24 15:04:37 INFO sqoop.Sqoop: Running Sqoop version: 1.4.5-cdh5.4.2\n",
      "20/01/24 15:04:37 WARN tool.BaseSqoopTool: Setting your password on the command-line is insecure. Consider using -P instead.\n",
      "20/01/24 15:04:38 INFO manager.MySQLManager: Preparing to use a MySQL streaming resultset.\n",
      "20/01/24 15:04:38 INFO tool.CodeGenTool: Beginning code generation\n",
      "20/01/24 15:04:38 INFO manager.SqlManager: Executing SQL statement: SELECT t.* FROM `customers` AS t LIMIT 1\n",
      "20/01/24 15:04:38 INFO manager.SqlManager: Executing SQL statement: SELECT t.* FROM `customers` AS t LIMIT 1\n",
      "20/01/24 15:04:38 INFO orm.CompilationManager: HADOOP_MAPRED_HOME is /usr/lib/hadoop-mapreduce\n",
      "Note: /tmp/sqoop-cloudera/compile/700e282fd7102629b40d9c10a832cf07/customers.java uses or overrides a deprecated API.\n",
      "Note: Recompile with -Xlint:deprecation for details.\n",
      "20/01/24 15:04:41 INFO orm.CompilationManager: Writing jar file: /tmp/sqoop-cloudera/compile/700e282fd7102629b40d9c10a832cf07/customers.jar\n",
      "20/01/24 15:04:41 WARN manager.MySQLManager: It looks like you are importing from mysql.\n",
      "20/01/24 15:04:41 WARN manager.MySQLManager: This transfer can be faster! Use the --direct\n",
      "20/01/24 15:04:41 WARN manager.MySQLManager: option to exercise a MySQL-specific fast path.\n",
      "20/01/24 15:04:41 INFO manager.MySQLManager: Setting zero DATETIME behavior to convertToNull (mysql)\n",
      "20/01/24 15:04:41 INFO mapreduce.ImportJobBase: Beginning import of customers\n",
      "20/01/24 15:04:41 INFO Configuration.deprecation: mapred.job.tracker is deprecated. Instead, use mapreduce.jobtracker.address\n",
      "20/01/24 15:04:41 INFO Configuration.deprecation: mapred.jar is deprecated. Instead, use mapreduce.job.jar\n",
      "20/01/24 15:04:42 INFO Configuration.deprecation: mapred.map.tasks is deprecated. Instead, use mapreduce.job.maps\n",
      "20/01/24 15:04:42 INFO client.RMProxy: Connecting to ResourceManager at /0.0.0.0:8032\n",
      "20/01/24 15:04:50 INFO db.DBInputFormat: Using read commited transaction isolation\n",
      "20/01/24 15:04:50 INFO mapreduce.JobSubmitter: number of splits:1\n",
      "20/01/24 15:04:50 INFO mapreduce.JobSubmitter: Submitting tokens for job: job_1579369419243_0006\n",
      "20/01/24 15:04:51 INFO impl.YarnClientImpl: Submitted application application_1579369419243_0006\n",
      "20/01/24 15:04:51 INFO mapreduce.Job: The url to track the job: http://quickstart.cloudera:8088/proxy/application_1579369419243_0006/\n",
      "20/01/24 15:04:51 INFO mapreduce.Job: Running job: job_1579369419243_0006\n",
      "20/01/24 15:05:01 INFO mapreduce.Job: Job job_1579369419243_0006 running in uber mode : false\n",
      "20/01/24 15:05:01 INFO mapreduce.Job:  map 0% reduce 0%\n",
      "20/01/24 15:05:18 INFO mapreduce.Job:  map 100% reduce 0%\n",
      "20/01/24 15:05:19 INFO mapreduce.Job: Job job_1579369419243_0006 completed successfully\n",
      "20/01/24 15:05:19 INFO mapreduce.Job: Counters: 30\n",
      "\tFile System Counters\n",
      "\t\tFILE: Number of bytes read=0\n",
      "\t\tFILE: Number of bytes written=135551\n",
      "\t\tFILE: Number of read operations=0\n",
      "\t\tFILE: Number of large read operations=0\n",
      "\t\tFILE: Number of write operations=0\n",
      "\t\tHDFS: Number of bytes read=87\n",
      "\t\tHDFS: Number of bytes written=1873\n",
      "\t\tHDFS: Number of read operations=4\n",
      "\t\tHDFS: Number of large read operations=0\n",
      "\t\tHDFS: Number of write operations=2\n",
      "\tJob Counters \n",
      "\t\tLaunched map tasks=1\n",
      "\t\tOther local map tasks=1\n",
      "\t\tTotal time spent by all maps in occupied slots (ms)=13560\n",
      "\t\tTotal time spent by all reduces in occupied slots (ms)=0\n",
      "\t\tTotal time spent by all map tasks (ms)=13560\n",
      "\t\tTotal vcore-seconds taken by all map tasks=13560\n",
      "\t\tTotal megabyte-seconds taken by all map tasks=13885440\n",
      "\tMap-Reduce Framework\n",
      "\t\tMap input records=25\n",
      "\t\tMap output records=25\n",
      "\t\tInput split bytes=87\n",
      "\t\tSpilled Records=0\n",
      "\t\tFailed Shuffles=0\n",
      "\t\tMerged Map outputs=0\n",
      "\t\tGC time elapsed (ms)=117\n",
      "\t\tCPU time spent (ms)=1740\n",
      "\t\tPhysical memory (bytes) snapshot=162910208\n",
      "\t\tVirtual memory (bytes) snapshot=1565655040\n",
      "\t\tTotal committed heap usage (bytes)=110100480\n",
      "\tFile Input Format Counters \n",
      "\t\tBytes Read=0\n",
      "\tFile Output Format Counters \n",
      "\t\tBytes Written=1873\n",
      "20/01/24 15:05:19 INFO mapreduce.ImportJobBase: Transferred 1.8291 KB in 37.0208 seconds (50.5932 bytes/sec)\n",
      "20/01/24 15:05:19 INFO mapreduce.ImportJobBase: Retrieved 25 records.\n"
     ]
    }
   ],
   "source": [
    "!sqoop import --connect jdbc:mysql://localhost/retail_db --username root --password cloudera --table customers --m 1 --target-dir sqoop/customers --where \"customer_city='Austin'\""
   ]
  },
  {
   "cell_type": "code",
   "execution_count": 11,
   "metadata": {
    "collapsed": false
   },
   "outputs": [
    {
     "name": "stdout",
     "output_type": "stream",
     "text": [
      "Found 2 items\r\n",
      "-rw-r--r--   1 cloudera cloudera          0 2020-01-24 15:05 sqoop/customers/_SUCCESS\r\n",
      "-rw-r--r--   1 cloudera cloudera       1873 2020-01-24 15:05 sqoop/customers/part-m-00000\r\n"
     ]
    }
   ],
   "source": [
    "! hdfs dfs -ls sqoop/customers"
   ]
  },
  {
   "cell_type": "code",
   "execution_count": 12,
   "metadata": {
    "collapsed": false
   },
   "outputs": [
    {
     "name": "stdout",
     "output_type": "stream",
     "text": [
      "311,Michael,Townsend,XXXXXXXXX,XXXXXXXXX,6292 Little Deer Wood,Austin,TX,78753\r\n",
      "480,Mary,Smith,XXXXXXXXX,XXXXXXXXX,229 Lost Canyon,Austin,TX,78745\r\n",
      "766,Mary,Smith,XXXXXXXXX,XXXXXXXXX,550 Fallen Trace,Austin,TX,78745\r\n",
      "979,Mary,Smith,XXXXXXXXX,XXXXXXXXX,9995 High Robin Pointe,Austin,TX,78745\r\n",
      "996,Amanda,Smith,XXXXXXXXX,XXXXXXXXX,7007 Golden Edge,Austin,TX,78753\r\n",
      "1028,Virginia,Sanders,XXXXXXXXX,XXXXXXXXX,1801 Jagged Dale Park,Austin,TX,78704\r\n",
      "1702,Mary,Smith,XXXXXXXXX,XXXXXXXXX,67 Cotton Mountain Terrace,Austin,TX,78745\r\n",
      "2100,Mary,Smith,XXXXXXXXX,XXXXXXXXX,1870 Stony Prairie Bend,Austin,TX,78753\r\n",
      "2130,Mary,Smith,XXXXXXXXX,XXXXXXXXX,6523 Rustic Beacon Landing,Austin,TX,78745\r\n",
      "2175,Mary,Smith,XXXXXXXXX,XXXXXXXXX,1230 Gentle Isle,Austin,TX,78704\r\n",
      "2308,Mary,Morgan,XXXXXXXXX,XXXXXXXXX,3796 Rustic Autoroute,Austin,TX,78753\r\n",
      "3489,Larry,Waller,XXXXXXXXX,XXXXXXXXX,5352 Silver Acres,Austin,TX,78704\r\n",
      "4054,Mary,Smith,XXXXXXXXX,XXXXXXXXX,1661 Gentle Rabbit Turnabout,Austin,TX,78753\r\n",
      "4508,Emma,Calderon,XXXXXXXXX,XXXXXXXXX,1859 Sunny Quay,Austin,TX,78704\r\n",
      "4868,Andrea,Marks,XXXXXXXXX,XXXXXXXXX,4900 Heather Elk Row,Austin,TX,78753\r\n",
      "4956,Mary,Smith,XXXXXXXXX,XXXXXXXXX,5913 Umber Orchard,Austin,TX,78745\r\n",
      "5908,Emily,Smith,XXXXXXXXX,XXXXXXXXX,8767 Thunder Corners,Austin,TX,78753\r\n",
      "6075,Mary,Smith,XXXXXXXXX,XXXXXXXXX,4546 Golden Hills Ridge,Austin,TX,78753\r\n",
      "6839,Bobby,Bean,XXXXXXXXX,XXXXXXXXX,1538 Old Autumn Island,Austin,TX,78753\r\n",
      "7476,Benjamin,Cole,XXXXXXXXX,XXXXXXXXX,9136 Emerald Oak Maze,Austin,TX,78704\r\n",
      "7763,Philip,Smith,XXXXXXXXX,XXXXXXXXX,5270 Quaking Autoroute,Austin,TX,78745\r\n",
      "9623,Mary,Davila,XXXXXXXXX,XXXXXXXXX,355 Amber Elk Abbey,Austin,TX,78704\r\n",
      "12207,Jose,Smith,XXXXXXXXX,XXXXXXXXX,8473 Crystal Hickory Path,Austin,TX,78745\r\n",
      "12302,Donald,Sampson,XXXXXXXXX,XXXXXXXXX,8550 Red Oak Bank,Austin,TX,78753\r\n",
      "12381,Mary,Olsen,XXXXXXXXX,XXXXXXXXX,1208 Cotton Bluff Carrefour,Austin,TX,78704\r\n"
     ]
    }
   ],
   "source": [
    "! hdfs dfs -cat sqoop/customers/part-m-00000"
   ]
  },
  {
   "cell_type": "code",
   "execution_count": 15,
   "metadata": {
    "collapsed": false
   },
   "outputs": [
    {
     "name": "stdout",
     "output_type": "stream",
     "text": [
      "Deleted sqoop/customers\r\n"
     ]
    }
   ],
   "source": [
    "! hdfs dfs -rm -r -skipTrash sqoop/customers"
   ]
  },
  {
   "cell_type": "code",
   "execution_count": 3,
   "metadata": {
    "collapsed": false
   },
   "outputs": [
    {
     "name": "stdout",
     "output_type": "stream",
     "text": [
      "Deleted sqoop\r\n"
     ]
    }
   ],
   "source": [
    "! hdfs dfs -rm -r -skipTrash sqoop"
   ]
  },
  {
   "cell_type": "markdown",
   "metadata": {},
   "source": [
    "### Exportando tablas Sqoop"
   ]
  },
  {
   "cell_type": "markdown",
   "metadata": {},
   "source": [
    "create table temp (\n",
    "\tid int not null,\n",
    "\tcat int,\n",
    "\tname varchar(30)\n",
    ");"
   ]
  },
  {
   "cell_type": "code",
   "execution_count": 16,
   "metadata": {
    "collapsed": false
   },
   "outputs": [
    {
     "name": "stdout",
     "output_type": "stream",
     "text": [
      "Warning: /usr/lib/sqoop/../accumulo does not exist! Accumulo imports will fail.\n",
      "Please set $ACCUMULO_HOME to the root of your Accumulo installation.\n",
      "20/01/25 06:15:14 INFO sqoop.Sqoop: Running Sqoop version: 1.4.5-cdh5.4.2\n",
      "20/01/25 06:15:14 WARN tool.BaseSqoopTool: Setting your password on the command-line is insecure. Consider using -P instead.\n",
      "20/01/25 06:15:15 INFO manager.MySQLManager: Preparing to use a MySQL streaming resultset.\n",
      "20/01/25 06:15:15 INFO tool.CodeGenTool: Beginning code generation\n",
      "20/01/25 06:15:16 INFO manager.SqlManager: Executing SQL statement: SELECT t.* FROM `temp` AS t LIMIT 1\n",
      "20/01/25 06:15:16 INFO manager.SqlManager: Executing SQL statement: SELECT t.* FROM `temp` AS t LIMIT 1\n",
      "20/01/25 06:15:16 INFO orm.CompilationManager: HADOOP_MAPRED_HOME is /usr/lib/hadoop-mapreduce\n",
      "Note: /tmp/sqoop-cloudera/compile/119a4579662502dacd2b63bf0c627e76/temp.java uses or overrides a deprecated API.\n",
      "Note: Recompile with -Xlint:deprecation for details.\n",
      "20/01/25 06:15:21 INFO orm.CompilationManager: Writing jar file: /tmp/sqoop-cloudera/compile/119a4579662502dacd2b63bf0c627e76/temp.jar\n",
      "20/01/25 06:15:21 INFO mapreduce.ExportJobBase: Beginning export of temp\n",
      "20/01/25 06:15:21 INFO Configuration.deprecation: mapred.job.tracker is deprecated. Instead, use mapreduce.jobtracker.address\n",
      "20/01/25 06:15:22 INFO Configuration.deprecation: mapred.jar is deprecated. Instead, use mapreduce.job.jar\n",
      "20/01/25 06:15:25 INFO Configuration.deprecation: mapred.reduce.tasks.speculative.execution is deprecated. Instead, use mapreduce.reduce.speculative\n",
      "20/01/25 06:15:25 INFO Configuration.deprecation: mapred.map.tasks.speculative.execution is deprecated. Instead, use mapreduce.map.speculative\n",
      "20/01/25 06:15:25 INFO Configuration.deprecation: mapred.map.tasks is deprecated. Instead, use mapreduce.job.maps\n",
      "20/01/25 06:15:25 INFO client.RMProxy: Connecting to ResourceManager at /0.0.0.0:8032\n",
      "20/01/25 06:15:32 INFO input.FileInputFormat: Total input paths to process : 4\n",
      "20/01/25 06:15:32 INFO input.FileInputFormat: Total input paths to process : 4\n",
      "20/01/25 06:15:32 INFO mapreduce.JobSubmitter: number of splits:4\n",
      "20/01/25 06:15:32 INFO Configuration.deprecation: mapred.map.tasks.speculative.execution is deprecated. Instead, use mapreduce.map.speculative\n",
      "20/01/25 06:15:33 INFO mapreduce.JobSubmitter: Submitting tokens for job: job_1579369419243_0008\n",
      "20/01/25 06:15:35 INFO impl.YarnClientImpl: Submitted application application_1579369419243_0008\n",
      "20/01/25 06:15:35 INFO mapreduce.Job: The url to track the job: http://quickstart.cloudera:8088/proxy/application_1579369419243_0008/\n",
      "20/01/25 06:15:35 INFO mapreduce.Job: Running job: job_1579369419243_0008\n",
      "20/01/25 06:16:17 INFO mapreduce.Job: Job job_1579369419243_0008 running in uber mode : false\n",
      "20/01/25 06:16:17 INFO mapreduce.Job:  map 0% reduce 0%\n",
      "20/01/25 06:16:51 INFO mapreduce.Job:  map 100% reduce 0%\n",
      "20/01/25 06:16:53 INFO mapreduce.Job: Job job_1579369419243_0008 completed successfully\n",
      "20/01/25 06:16:54 INFO mapreduce.Job: Counters: 31\n",
      "\tFile System Counters\n",
      "\t\tFILE: Number of bytes read=0\n",
      "\t\tFILE: Number of bytes written=538820\n",
      "\t\tFILE: Number of read operations=0\n",
      "\t\tFILE: Number of large read operations=0\n",
      "\t\tFILE: Number of write operations=0\n",
      "\t\tHDFS: Number of bytes read=2274\n",
      "\t\tHDFS: Number of bytes written=0\n",
      "\t\tHDFS: Number of read operations=25\n",
      "\t\tHDFS: Number of large read operations=0\n",
      "\t\tHDFS: Number of write operations=0\n",
      "\tJob Counters \n",
      "\t\tLaunched map tasks=4\n",
      "\t\tOther local map tasks=1\n",
      "\t\tData-local map tasks=3\n",
      "\t\tTotal time spent by all maps in occupied slots (ms)=122620\n",
      "\t\tTotal time spent by all reduces in occupied slots (ms)=0\n",
      "\t\tTotal time spent by all map tasks (ms)=122620\n",
      "\t\tTotal vcore-seconds taken by all map tasks=122620\n",
      "\t\tTotal megabyte-seconds taken by all map tasks=125562880\n",
      "\tMap-Reduce Framework\n",
      "\t\tMap input records=58\n",
      "\t\tMap output records=58\n",
      "\t\tInput split bytes=823\n",
      "\t\tSpilled Records=0\n",
      "\t\tFailed Shuffles=0\n",
      "\t\tMerged Map outputs=0\n",
      "\t\tGC time elapsed (ms)=1204\n",
      "\t\tCPU time spent (ms)=5280\n",
      "\t\tPhysical memory (bytes) snapshot=511971328\n",
      "\t\tVirtual memory (bytes) snapshot=6217416704\n",
      "\t\tTotal committed heap usage (bytes)=367001600\n",
      "\tFile Input Format Counters \n",
      "\t\tBytes Read=0\n",
      "\tFile Output Format Counters \n",
      "\t\tBytes Written=0\n",
      "20/01/25 06:16:54 INFO mapreduce.ExportJobBase: Transferred 2.2207 KB in 88.8305 seconds (25.5993 bytes/sec)\n",
      "20/01/25 06:16:54 INFO mapreduce.ExportJobBase: Exported 58 records.\n"
     ]
    }
   ],
   "source": [
    "! sqoop export --connect jdbc:mysql://localhost/retail_db --username root --password cloudera --table temp --export-dir sqoop"
   ]
  }
 ],
 "metadata": {
  "kernelspec": {
   "display_name": "Python 3",
   "language": "python",
   "name": "python3"
  },
  "language_info": {
   "codemirror_mode": {
    "name": "ipython",
    "version": 3
   },
   "file_extension": ".py",
   "mimetype": "text/x-python",
   "name": "python",
   "nbconvert_exporter": "python",
   "pygments_lexer": "ipython3",
   "version": "3.5.1"
  }
 },
 "nbformat": 4,
 "nbformat_minor": 0
}
