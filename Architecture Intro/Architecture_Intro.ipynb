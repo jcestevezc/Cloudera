{
  "nbformat": 4,
  "nbformat_minor": 0,
  "metadata": {
    "colab": {
      "name": "Architecture Intro.ipynb",
      "provenance": [],
      "authorship_tag": "ABX9TyOVw+iB5eIP8xxzVO86onG9",
      "include_colab_link": true
    },
    "kernelspec": {
      "name": "python3",
      "display_name": "Python 3"
    }
  },
  "cells": [
    {
      "cell_type": "markdown",
      "metadata": {
        "id": "view-in-github",
        "colab_type": "text"
      },
      "source": [
        "<a href=\"https://colab.research.google.com/github/jcestevezc/Cloudera/blob/master/Architecture%20Intro/Architecture_Intro.ipynb\" target=\"_parent\"><img src=\"https://colab.research.google.com/assets/colab-badge.svg\" alt=\"Open In Colab\"/></a>"
      ]
    },
    {
      "cell_type": "code",
      "metadata": {
        "id": "-vsbns_-ylkk",
        "colab_type": "code",
        "colab": {}
      },
      "source": [
        ""
      ],
      "execution_count": null,
      "outputs": []
    },
    {
      "cell_type": "markdown",
      "metadata": {
        "id": "6ZLf8MFYypYF",
        "colab_type": "text"
      },
      "source": [
        "The Big Data Architecture helps in designing Data Pipelines with the various requirements of either the ***Batch Processing System or Stream Processing System***.\n",
        "\n",
        "The architecture consists of 6 layers which ensure a secure flow of data.\n",
        "\n",
        "![Architecture](https://github.com/jcestevezc/Cloudera/blob/master/Architecture%20Intro/big-data-framework.png?raw=true)"
      ]
    }
  ]
}